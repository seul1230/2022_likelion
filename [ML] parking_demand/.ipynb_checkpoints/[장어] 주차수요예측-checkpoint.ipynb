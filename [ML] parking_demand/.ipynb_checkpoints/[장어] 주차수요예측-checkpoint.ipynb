{
 "cells": [
  {
   "cell_type": "markdown",
   "metadata": {
    "id": "gqBh7c-HEPgQ"
   },
   "source": [
    "## 참고한 공유 게시글 \n",
    "- 파베르 님의 코드 공유 [주차수요 예측 EDA & Catboost Baseline]  \n",
    "전처리하는 부분에서 많은 도움이 되었습니다. 감사합니다.  \n",
    "https://dacon.io/competitions/official/235745/codeshare/2851?page=1&dtype=recent\n",
    "\n",
    "- Jay Hong 님의 토크 게시글 [Data Leakage에 대한 개인적인 정리입니다]  \n",
    "Data Leakage.. 너무 어렵습니다.  초심자를 위한 Dacon의 가이드라인이 있었으면 합니다. Jay Hong 님 감사합니다.  \n",
    "https://dacon.io/competitions/official/235745/talkboard/403895?page=1&dtype=recent\n",
    "\n",
    "- 흔들리는 인덕원역 님의 코드 공유 [Beseline 코드보다 높은 점수 받아 보자]  \n",
    "데이터 이해하는 부분에서 많은 도움이 되었습니다. 감사합니다.   \n",
    "https://dacon.io/competitions/official/235745/codeshare/2860?page=1&dtype=recent"
   ]
  },
  {
   "cell_type": "markdown",
   "metadata": {
    "id": "5I-IhbMdniPo"
   },
   "source": [
    "## 각종 설치 & 한글 폰트 설정 & 패키지 불러오기 & 경로 설정 "
   ]
  },
  {
   "cell_type": "code",
   "execution_count": 254,
   "metadata": {
    "colab": {
     "base_uri": "https://localhost:8080/"
    },
    "id": "ywideHHm6yk6",
    "outputId": "0f4d438e-3d35-42c2-c744-23272dcf9df0"
   },
   "outputs": [],
   "source": [
    "#패키지 불러오기 및 각종 설치 & 폰트 설정 한방에 \n",
    "import matplotlib\n",
    "%matplotlib inline\n",
    "\n",
    "import matplotlib.pyplot as plt \n",
    "import matplotlib.font_manager as fm  \n",
    "\n",
    "\n",
    "import koreanize_matplotlib\n",
    "\n",
    "# !pip install pycaret\n",
    "from tqdm.notebook import tqdm\n",
    "# from pycaret.regression import *\n",
    "\n",
    "\n",
    "import warnings\n",
    "warnings.filterwarnings(\"ignore\")"
   ]
  },
  {
   "cell_type": "code",
   "execution_count": 255,
   "metadata": {},
   "outputs": [],
   "source": [
    "import pandas as pd\n",
    "import numpy as np\n",
    "import matplotlib.pyplot as plt\n",
    "import seaborn as sns"
   ]
  },
  {
   "cell_type": "code",
   "execution_count": 256,
   "metadata": {
    "colab": {
     "base_uri": "https://localhost:8080/"
    },
    "id": "oVYO7n9_7QuD",
    "outputId": "90b9dadb-9f35-4ddd-e47b-e466cb265cd6"
   },
   "outputs": [],
   "source": [
    "# from google.colab import drive  \n",
    "# drive.mount('/gdrive')"
   ]
  },
  {
   "cell_type": "code",
   "execution_count": 257,
   "metadata": {
    "id": "-5D8Hf8D7Y-U"
   },
   "outputs": [],
   "source": [
    "# import os\n",
    "# workspace_path = '/gdrive/My Drive/dacon/주차수요 예측/' \n",
    "# data_path = os.path.join(workspace_path, 'parking')"
   ]
  },
  {
   "cell_type": "code",
   "execution_count": 258,
   "metadata": {},
   "outputs": [],
   "source": [
    "data_path = './parking_data'"
   ]
  },
  {
   "cell_type": "markdown",
   "metadata": {
    "id": "Ug9twyPRoAif"
   },
   "source": [
    "## 데이터 탐색 및 전처리\n",
    "\n",
    "* 토크 게시판에 올라온 오류 데이터 모두를 일단 포함하고 2번과 3번은 항상 제거하고 사용했으며 1번 오류 데이터에 대해서는 실험을 계속 진행하다 마지막에는 가장 큰 값들만 제거하는 방향으로 진행한 것 같습니다. \n",
    "* 다른 전처리는 대부분 코드 공유에 올라온 ['파베르'님의 주차수요 예측 EDA & Catboost Baseline](https://dacon.io/competitions/official/235745/codeshare/2851?page=1&dtype=recent) 를 참고했습니다. 공유 감사합니다."
   ]
  },
  {
   "cell_type": "code",
   "execution_count": 259,
   "metadata": {
    "id": "ueK6DDcS7LbL"
   },
   "outputs": [],
   "source": [
    "age_gender = pd.read_csv(f'{data_path}/age_gender_info.csv')\n",
    "train = pd.read_csv(f'{data_path}/train.csv')\n",
    "test = pd.read_csv(f'{data_path}/test.csv')"
   ]
  },
  {
   "cell_type": "code",
   "execution_count": 260,
   "metadata": {
    "id": "-Ca6eQer7gHI"
   },
   "outputs": [],
   "source": [
    "train.loc[train.임대보증금=='-', '임대보증금'] = np.nan\n",
    "test.loc[test.임대보증금=='-', '임대보증금'] = np.nan\n",
    "train['임대보증금'] = train['임대보증금'].astype(float)\n",
    "test['임대보증금'] = test['임대보증금'].astype(float)\n",
    "\n",
    "train.loc[train.임대료=='-', '임대료'] = np.nan\n",
    "test.loc[test.임대료=='-', '임대료'] = np.nan\n",
    "train['임대료'] = train['임대료'].astype(float)\n",
    "test['임대료'] = test['임대료'].astype(float)"
   ]
  },
  {
   "cell_type": "code",
   "execution_count": 261,
   "metadata": {
    "id": "-8gl8Um17hdC"
   },
   "outputs": [],
   "source": [
    "##1번 데이터 오류 (가장 큰 차이를 보이는 단지 4개에 대해 삭제 (토크 게시판에 크기순으로 나열되어있음))\n",
    "train = train[train.단지코드 != 'C1804']\n",
    "train = train[train.단지코드 != 'C2405']\n",
    "train = train[train.단지코드 != 'C1740']\n",
    "train = train[train.단지코드 != 'C1206']\n",
    "\n",
    "##2번 데이터오류 \n",
    "train = train[train.단지코드 != 'C2085']\n",
    "train = train[train.단지코드 != 'C1397']\n",
    "train = train[train.단지코드 != 'C2431']\n",
    "train = train[train.단지코드 != 'C1649']\n",
    "train = train[train.단지코드 != 'C1036']\n",
    "\n",
    "##3번 데이터 오류 \n",
    "train = train[train.단지코드 != 'C1095']\n",
    "train = train[train.단지코드 != 'C2051']\n",
    "train = train[train.단지코드 != 'C1218']\n",
    "train = train[train.단지코드 != 'C1894']\n",
    "train = train[train.단지코드 != 'C2483']\n",
    "train = train[train.단지코드 != 'C1502']\n",
    "train = train[train.단지코드 != 'C1988']"
   ]
  },
  {
   "cell_type": "markdown",
   "metadata": {
    "id": "i5WvNjuarbj5"
   },
   "source": [
    "### 버스 정류장 및 지하철 수 처리\n",
    "test에 50이라는 너무 이상한 값이 존재 >> train의 mean으로 보정했습니다."
   ]
  },
  {
   "cell_type": "code",
   "execution_count": 262,
   "metadata": {
    "colab": {
     "base_uri": "https://localhost:8080/"
    },
    "id": "EhzrbTUeY-wH",
    "outputId": "435d8d4c-750e-4007-ba0c-2fda3826b0b3"
   },
   "outputs": [
    {
     "data": {
      "text/plain": [
       "array([ 3.,  1.,  2.,  6., 10.,  5.,  4.,  7., 12., 14.,  8.,  0., 20.,\n",
       "       11., 16., 15., 19.])"
      ]
     },
     "execution_count": 262,
     "metadata": {},
     "output_type": "execute_result"
    }
   ],
   "source": [
    "train['도보 10분거리 내 버스정류장 수'].unique()"
   ]
  },
  {
   "cell_type": "code",
   "execution_count": 263,
   "metadata": {
    "colab": {
     "base_uri": "https://localhost:8080/"
    },
    "id": "wMEka4yfZAmN",
    "outputId": "e4cdfbaf-df36-4723-db80-d60f0c39b193"
   },
   "outputs": [
    {
     "data": {
      "text/plain": [
       "array([ 2.,  3., 16.,  6.,  1.,  4.,  5.,  8., 10., 13.,  7., 11., 50.,\n",
       "       12., 14., 18., 15., 19., 17.])"
      ]
     },
     "execution_count": 263,
     "metadata": {},
     "output_type": "execute_result"
    }
   ],
   "source": [
    "test['도보 10분거리 내 버스정류장 수'].unique()"
   ]
  },
  {
   "cell_type": "code",
   "execution_count": 264,
   "metadata": {
    "id": "EQI02yN87llh"
   },
   "outputs": [],
   "source": [
    "train['도보 10분거리 내 지하철역 수(환승노선 수 반영)'] = train['도보 10분거리 내 지하철역 수(환승노선 수 반영)'].fillna(0)\n",
    "test['도보 10분거리 내 지하철역 수(환승노선 수 반영)'] = test['도보 10분거리 내 지하철역 수(환승노선 수 반영)'].fillna(0)\n",
    "train['도보 10분거리 내 버스정류장 수'] = train['도보 10분거리 내 버스정류장 수'].fillna(0)"
   ]
  },
  {
   "cell_type": "code",
   "execution_count": 265,
   "metadata": {},
   "outputs": [
    {
     "data": {
      "image/png": "[encoded data removed]",
      "text/plain": [
       "<Figure size 1500x1000 with 9 Axes>"
      ]
     },
     "metadata": {},
     "output_type": "display_data"
    }
   ],
   "source": [
    "test.hist(bins = 50, figsize = (15, 10));"
   ]
  },
  {
   "cell_type": "code",
   "execution_count": 266,
   "metadata": {
    "colab": {
     "base_uri": "https://localhost:8080/",
     "height": 328
    },
    "id": "XkiPzeE-760X",
    "outputId": "3cc619f5-9c4d-4799-fc4c-c4a554a5a9d3"
   },
   "outputs": [
    {
     "data": {
      "text/html": [
       "<div>\n",
       "<style scoped>\n",
       "    .dataframe tbody tr th:only-of-type {\n",
       "        vertical-align: middle;\n",
       "    }\n",
       "\n",
       "    .dataframe tbody tr th {\n",
       "        vertical-align: top;\n",
       "    }\n",
       "\n",
       "    .dataframe thead th {\n",
       "        text-align: right;\n",
       "    }\n",
       "</style>\n",
       "<table border=\"1\" class=\"dataframe\">\n",
       "  <thead>\n",
       "    <tr style=\"text-align: right;\">\n",
       "      <th></th>\n",
       "      <th>단지코드</th>\n",
       "      <th>총세대수</th>\n",
       "      <th>임대건물구분</th>\n",
       "      <th>지역</th>\n",
       "      <th>공급유형</th>\n",
       "      <th>전용면적</th>\n",
       "      <th>전용면적별세대수</th>\n",
       "      <th>공가수</th>\n",
       "      <th>자격유형</th>\n",
       "      <th>임대보증금</th>\n",
       "      <th>임대료</th>\n",
       "      <th>도보 10분거리 내 지하철역 수(환승노선 수 반영)</th>\n",
       "      <th>도보 10분거리 내 버스정류장 수</th>\n",
       "      <th>단지내주차면수</th>\n",
       "    </tr>\n",
       "  </thead>\n",
       "  <tbody>\n",
       "    <tr>\n",
       "      <th>383</th>\n",
       "      <td>C1852</td>\n",
       "      <td>898</td>\n",
       "      <td>아파트</td>\n",
       "      <td>경기도</td>\n",
       "      <td>국민임대</td>\n",
       "      <td>39.59</td>\n",
       "      <td>219</td>\n",
       "      <td>6.0</td>\n",
       "      <td>H</td>\n",
       "      <td>23720000.0</td>\n",
       "      <td>197230.0</td>\n",
       "      <td>0.0</td>\n",
       "      <td>50.0</td>\n",
       "      <td>785.0</td>\n",
       "    </tr>\n",
       "    <tr>\n",
       "      <th>384</th>\n",
       "      <td>C1852</td>\n",
       "      <td>898</td>\n",
       "      <td>아파트</td>\n",
       "      <td>경기도</td>\n",
       "      <td>국민임대</td>\n",
       "      <td>39.72</td>\n",
       "      <td>56</td>\n",
       "      <td>6.0</td>\n",
       "      <td>A</td>\n",
       "      <td>23720000.0</td>\n",
       "      <td>197230.0</td>\n",
       "      <td>0.0</td>\n",
       "      <td>50.0</td>\n",
       "      <td>785.0</td>\n",
       "    </tr>\n",
       "    <tr>\n",
       "      <th>385</th>\n",
       "      <td>C1852</td>\n",
       "      <td>898</td>\n",
       "      <td>아파트</td>\n",
       "      <td>경기도</td>\n",
       "      <td>국민임대</td>\n",
       "      <td>39.72</td>\n",
       "      <td>44</td>\n",
       "      <td>6.0</td>\n",
       "      <td>A</td>\n",
       "      <td>23720000.0</td>\n",
       "      <td>197230.0</td>\n",
       "      <td>0.0</td>\n",
       "      <td>50.0</td>\n",
       "      <td>785.0</td>\n",
       "    </tr>\n",
       "    <tr>\n",
       "      <th>386</th>\n",
       "      <td>C1852</td>\n",
       "      <td>898</td>\n",
       "      <td>아파트</td>\n",
       "      <td>경기도</td>\n",
       "      <td>국민임대</td>\n",
       "      <td>46.90</td>\n",
       "      <td>46</td>\n",
       "      <td>6.0</td>\n",
       "      <td>A</td>\n",
       "      <td>37454000.0</td>\n",
       "      <td>259660.0</td>\n",
       "      <td>0.0</td>\n",
       "      <td>50.0</td>\n",
       "      <td>785.0</td>\n",
       "    </tr>\n",
       "    <tr>\n",
       "      <th>387</th>\n",
       "      <td>C1852</td>\n",
       "      <td>898</td>\n",
       "      <td>아파트</td>\n",
       "      <td>경기도</td>\n",
       "      <td>국민임대</td>\n",
       "      <td>46.90</td>\n",
       "      <td>22</td>\n",
       "      <td>6.0</td>\n",
       "      <td>A</td>\n",
       "      <td>37454000.0</td>\n",
       "      <td>259660.0</td>\n",
       "      <td>0.0</td>\n",
       "      <td>50.0</td>\n",
       "      <td>785.0</td>\n",
       "    </tr>\n",
       "    <tr>\n",
       "      <th>388</th>\n",
       "      <td>C1852</td>\n",
       "      <td>898</td>\n",
       "      <td>아파트</td>\n",
       "      <td>경기도</td>\n",
       "      <td>국민임대</td>\n",
       "      <td>46.90</td>\n",
       "      <td>225</td>\n",
       "      <td>6.0</td>\n",
       "      <td>H</td>\n",
       "      <td>37454000.0</td>\n",
       "      <td>259660.0</td>\n",
       "      <td>0.0</td>\n",
       "      <td>50.0</td>\n",
       "      <td>785.0</td>\n",
       "    </tr>\n",
       "    <tr>\n",
       "      <th>389</th>\n",
       "      <td>C1852</td>\n",
       "      <td>898</td>\n",
       "      <td>아파트</td>\n",
       "      <td>경기도</td>\n",
       "      <td>국민임대</td>\n",
       "      <td>51.93</td>\n",
       "      <td>136</td>\n",
       "      <td>6.0</td>\n",
       "      <td>H</td>\n",
       "      <td>45193000.0</td>\n",
       "      <td>308350.0</td>\n",
       "      <td>0.0</td>\n",
       "      <td>50.0</td>\n",
       "      <td>785.0</td>\n",
       "    </tr>\n",
       "    <tr>\n",
       "      <th>390</th>\n",
       "      <td>C1852</td>\n",
       "      <td>898</td>\n",
       "      <td>아파트</td>\n",
       "      <td>경기도</td>\n",
       "      <td>국민임대</td>\n",
       "      <td>51.93</td>\n",
       "      <td>44</td>\n",
       "      <td>6.0</td>\n",
       "      <td>H</td>\n",
       "      <td>45193000.0</td>\n",
       "      <td>308350.0</td>\n",
       "      <td>0.0</td>\n",
       "      <td>50.0</td>\n",
       "      <td>785.0</td>\n",
       "    </tr>\n",
       "    <tr>\n",
       "      <th>391</th>\n",
       "      <td>C1852</td>\n",
       "      <td>898</td>\n",
       "      <td>아파트</td>\n",
       "      <td>경기도</td>\n",
       "      <td>국민임대</td>\n",
       "      <td>59.61</td>\n",
       "      <td>106</td>\n",
       "      <td>6.0</td>\n",
       "      <td>H</td>\n",
       "      <td>61674000.0</td>\n",
       "      <td>370790.0</td>\n",
       "      <td>0.0</td>\n",
       "      <td>50.0</td>\n",
       "      <td>785.0</td>\n",
       "    </tr>\n",
       "  </tbody>\n",
       "</table>\n",
       "</div>"
      ],
      "text/plain": [
       "      단지코드  총세대수 임대건물구분   지역  공급유형   전용면적  전용면적별세대수  공가수 자격유형       임대보증금  \\\n",
       "383  C1852   898    아파트  경기도  국민임대  39.59       219  6.0    H  23720000.0   \n",
       "384  C1852   898    아파트  경기도  국민임대  39.72        56  6.0    A  23720000.0   \n",
       "385  C1852   898    아파트  경기도  국민임대  39.72        44  6.0    A  23720000.0   \n",
       "386  C1852   898    아파트  경기도  국민임대  46.90        46  6.0    A  37454000.0   \n",
       "387  C1852   898    아파트  경기도  국민임대  46.90        22  6.0    A  37454000.0   \n",
       "388  C1852   898    아파트  경기도  국민임대  46.90       225  6.0    H  37454000.0   \n",
       "389  C1852   898    아파트  경기도  국민임대  51.93       136  6.0    H  45193000.0   \n",
       "390  C1852   898    아파트  경기도  국민임대  51.93        44  6.0    H  45193000.0   \n",
       "391  C1852   898    아파트  경기도  국민임대  59.61       106  6.0    H  61674000.0   \n",
       "\n",
       "          임대료  도보 10분거리 내 지하철역 수(환승노선 수 반영)  도보 10분거리 내 버스정류장 수  단지내주차면수  \n",
       "383  197230.0                           0.0                50.0    785.0  \n",
       "384  197230.0                           0.0                50.0    785.0  \n",
       "385  197230.0                           0.0                50.0    785.0  \n",
       "386  259660.0                           0.0                50.0    785.0  \n",
       "387  259660.0                           0.0                50.0    785.0  \n",
       "388  259660.0                           0.0                50.0    785.0  \n",
       "389  308350.0                           0.0                50.0    785.0  \n",
       "390  308350.0                           0.0                50.0    785.0  \n",
       "391  370790.0                           0.0                50.0    785.0  "
      ]
     },
     "execution_count": 266,
     "metadata": {},
     "output_type": "execute_result"
    }
   ],
   "source": [
    "test[test['도보 10분거리 내 버스정류장 수']==50]   ##상식적으로 있을 수 없는 값이라고 판단 "
   ]
  },
  {
   "cell_type": "code",
   "execution_count": 267,
   "metadata": {
    "id": "QW8ZLQ47bBK7"
   },
   "outputs": [],
   "source": [
    "# train[train['지역'] == '경기도']['도보 10분거리 내 버스정류장 수'].max() "
   ]
  },
  {
   "cell_type": "code",
   "execution_count": 268,
   "metadata": {
    "id": "h5uD3QRf771b"
   },
   "outputs": [],
   "source": [
    "test.loc[test['도보 10분거리 내 버스정류장 수'] == 50, '도보 10분거리 내 버스정류장 수'] = train['도보 10분거리 내 버스정류장 수'].mean()\n",
    "##train의 평균 값으로 처리 "
   ]
  },
  {
   "cell_type": "markdown",
   "metadata": {
    "id": "fDdAKIRxrqz5"
   },
   "source": [
    "### 임대료 및 임대보증금 처리\n",
    "* data leakage에 대한 이해 불충분으로 test 통계치로 처리하다가 많은 분들의 생각 공유와 dacon 측의 답변으로 대회 기간 내 바꿀 수 있었습니다. 생각 공유해주신 많은 분과 [토크 게시판에 글(Data Leakage에 대한 개인적인 정리입니다) 올려주신 'Jay Hong'님 ](https://dacon.io/competitions/official/235745/talkboard/403895?page=1&dtype=recent) 감사합니다. 많이 배우고 있습니다! \n",
    "* 하지만 이 부분에서 데이콘측에서 정확한 가이드라인이 있었으면 더 좋겠다는 생각입니다.. 초보자 입장에서 너무 많은 착각을 할 수 있고 이로 인해 수상 취소까지 갈 수 있는 만큼 명확한 규정이 있었으면 좋겠습니다."
   ]
  },
  {
   "cell_type": "code",
   "execution_count": 269,
   "metadata": {
    "id": "CAZvK4TR0oHd"
   },
   "outputs": [],
   "source": [
    "# train = train.drop(columns=['임대료', '임대보증금']) 살리는 게 더 좋은 점수를 가져옴 \n",
    "# test = test.drop(columns=['임대료', '임대보증금'])\n",
    "# train"
   ]
  },
  {
   "cell_type": "markdown",
   "metadata": {
    "id": "ZlF5AsJgtP_W"
   },
   "source": [
    "다른 공급 유형이면 몰라도 임대 상가에 한해서는 임대료와 임대보증금이 0원이라는 것은 말이 안 된다고 판단해 **임대상가**는 해당 **지역의 train의 임대료와 임대보증금 평균값**으로 처리했습니다."
   ]
  },
  {
   "cell_type": "code",
   "execution_count": 270,
   "metadata": {
    "id": "--t1dSdo7_W_"
   },
   "outputs": [],
   "source": [
    "#임대료 처리 \n",
    "train.loc[train['공급유형'] == '공공분양', '임대료'] = train['임대료'].fillna(0)\n",
    "train.loc[train['공급유형'] == '장기전세', '임대료'] = train['임대료'].fillna(0)\n",
    "train.loc[train['공급유형'] == '국민임대', '임대료'] = train['임대료'].fillna(0)\n",
    "train.loc[train['공급유형'] == '행복주택', '임대료'] = train['임대료'].fillna(0)\n",
    "\n",
    "#임대보증금 처리\n",
    "train.loc[train['공급유형'] == '공공분양', '임대보증금'] = train['임대보증금'].fillna(0)\n",
    "train.loc[train['공급유형'] == '장기전세', '임대보증금'] = train['임대보증금'].fillna(0)\n",
    "train.loc[train['공급유형'] == '국민임대', '임대보증금'] = train['임대보증금'].fillna(0)\n",
    "train.loc[train['공급유형'] == '행복주택', '임대보증금'] = train['임대보증금'].fillna(0)"
   ]
  },
  {
   "cell_type": "code",
   "execution_count": 271,
   "metadata": {
    "id": "uLy3p18d8DN2"
   },
   "outputs": [],
   "source": [
    "#임대 상가의 임대료 처리 \n",
    "train.loc[train['지역'] == '부산광역시', '임대료'] = train['임대료'].fillna(train[train['지역'] == '부산광역시']['임대료'].mean())\n",
    "train.loc[train['지역'] == '대전광역시', '임대료'] = train['임대료'].fillna(train[train['지역'] == '대전광역시']['임대료'].mean())\n",
    "train.loc[train['지역'] == '경상남도', '임대료'] = train['임대료'].fillna(train[train['지역'] == '경상남도']['임대료'].mean())\n",
    "train.loc[train['지역'] == '충청남도', '임대료'] = train['임대료'].fillna(train[train['지역'] == '충청남도']['임대료'].mean())\n",
    "train.loc[train['지역'] == '강원도', '임대료'] = train['임대료'].fillna(train[train['지역'] == '강원도']['임대료'].mean())\n",
    "train.loc[train['지역'] == '제주특별자치도', '임대료'] = train['임대료'].fillna(train[train['지역'] == '제주특별자치도']['임대료'].mean())\n",
    "\n",
    "#임대 상가의 임대보증금 처리 \n",
    "train.loc[train['지역'] == '부산광역시', '임대보증금'] = train['임대보증금'].fillna(train[train['지역'] == '부산광역시']['임대보증금'].mean())\n",
    "train.loc[train['지역'] == '대전광역시', '임대보증금'] = train['임대보증금'].fillna(train[train['지역'] == '대전광역시']['임대보증금'].mean())\n",
    "train.loc[train['지역'] == '경상남도', '임대보증금'] = train['임대보증금'].fillna(train[train['지역'] == '경상남도']['임대보증금'].mean())\n",
    "train.loc[train['지역'] == '충청남도', '임대보증금'] = train['임대보증금'].fillna(train[train['지역'] == '충청남도']['임대보증금'].mean())\n",
    "train.loc[train['지역'] == '강원도', '임대보증금'] = train['임대보증금'].fillna(train[train['지역'] == '강원도']['임대보증금'].mean())\n",
    "train.loc[train['지역'] == '제주특별자치도', '임대보증금'] = train['임대보증금'].fillna(train[train['지역'] == '제주특별자치도']['임대보증금'].mean())"
   ]
  },
  {
   "cell_type": "code",
   "execution_count": 272,
   "metadata": {
    "id": "ujSOlSx68BEP"
   },
   "outputs": [],
   "source": [
    "# train.groupby(['공급유형'], as_index=False)['임대료'].mean()"
   ]
  },
  {
   "cell_type": "code",
   "execution_count": 273,
   "metadata": {
    "id": "EfCB0qV48KX2"
   },
   "outputs": [],
   "source": [
    "#임대료 처리 \n",
    "test.loc[test['공급유형'] == '영구임대', '임대료'] = test['임대료'].fillna(0)\n",
    "test.loc[test['공급유형'] == '행복주택', '임대료'] = test['임대료'].fillna(0)\n",
    "\n",
    "#임대보증금 처리\n",
    "test.loc[test['공급유형'] == '영구임대', '임대보증금'] = test['임대보증금'].fillna(0)\n",
    "test.loc[test['공급유형'] == '행복주택', '임대보증금'] = test['임대보증금'].fillna(0)"
   ]
  },
  {
   "cell_type": "code",
   "execution_count": 274,
   "metadata": {
    "id": "muMi0JAZ8LVh"
   },
   "outputs": [],
   "source": [
    "#임대 상가의 임대료 처리  (test 특성 기준 test null 값 처리는 data leakage 여서 train의 지역 기준으로 test 처리)\n",
    "test.loc[test['지역'] == '부산광역시', '임대료'] = test['임대료'].fillna(train[train['지역'] == '부산광역시']['임대료'].mean())\n",
    "test.loc[test['지역'] == '대전광역시', '임대료'] = test['임대료'].fillna(train[train['지역'] == '대전광역시']['임대료'].mean())\n",
    "test.loc[test['지역'] == '울산광역시', '임대료'] = test['임대료'].fillna(train[train['지역'] == '울산광역시']['임대료'].mean())\n",
    "test.loc[test['지역'] == '충청남도', '임대료'] = test['임대료'].fillna(train[train['지역'] == '충청남도']['임대료'].mean())\n",
    "test.loc[test['지역'] == '강원도', '임대료'] = test['임대료'].fillna(train[train['지역'] == '강원도']['임대료'].mean())  \n",
    "\n",
    "\n",
    "#임대 상가의 임대보증금 처리 \n",
    "test.loc[test['지역'] == '부산광역시', '임대보증금'] = test['임대보증금'].fillna(train[train['지역'] == '부산광역시']['임대보증금'].mean())\n",
    "test.loc[test['지역'] == '대전광역시', '임대보증금'] = test['임대보증금'].fillna(train[train['지역'] == '대전광역시']['임대보증금'].mean())\n",
    "test.loc[test['지역'] == '울산광역시', '임대보증금'] = test['임대보증금'].fillna(train[train['지역'] == '울산광역시']['임대보증금'].mean())\n",
    "test.loc[test['지역'] == '충청남도', '임대보증금'] = test['임대보증금'].fillna(train[train['지역'] == '충청남도']['임대보증금'].mean())\n",
    "test.loc[test['지역'] == '강원도', '임대보증금'] = test['임대보증금'].fillna(train[train['지역'] == '강원도']['임대보증금'].mean())"
   ]
  },
  {
   "cell_type": "markdown",
   "metadata": {
    "id": "tNnfL2Yat5-D"
   },
   "source": [
    "### 자격유형 처리\n",
    "코드 공유의 글을 따라갔습니다."
   ]
  },
  {
   "cell_type": "code",
   "execution_count": 275,
   "metadata": {
    "colab": {
     "base_uri": "https://localhost:8080/",
     "height": 111
    },
    "id": "7miRtzmD8Rk-",
    "outputId": "770f0cb5-d310-48b6-8ffa-e4d061597f1d"
   },
   "outputs": [
    {
     "data": {
      "text/html": [
       "<div>\n",
       "<style scoped>\n",
       "    .dataframe tbody tr th:only-of-type {\n",
       "        vertical-align: middle;\n",
       "    }\n",
       "\n",
       "    .dataframe tbody tr th {\n",
       "        vertical-align: top;\n",
       "    }\n",
       "\n",
       "    .dataframe thead th {\n",
       "        text-align: right;\n",
       "    }\n",
       "</style>\n",
       "<table border=\"1\" class=\"dataframe\">\n",
       "  <thead>\n",
       "    <tr style=\"text-align: right;\">\n",
       "      <th></th>\n",
       "      <th>단지코드</th>\n",
       "      <th>총세대수</th>\n",
       "      <th>임대건물구분</th>\n",
       "      <th>지역</th>\n",
       "      <th>공급유형</th>\n",
       "      <th>전용면적</th>\n",
       "      <th>전용면적별세대수</th>\n",
       "      <th>공가수</th>\n",
       "      <th>자격유형</th>\n",
       "      <th>임대보증금</th>\n",
       "      <th>임대료</th>\n",
       "      <th>도보 10분거리 내 지하철역 수(환승노선 수 반영)</th>\n",
       "      <th>도보 10분거리 내 버스정류장 수</th>\n",
       "      <th>단지내주차면수</th>\n",
       "    </tr>\n",
       "  </thead>\n",
       "  <tbody>\n",
       "    <tr>\n",
       "      <th>196</th>\n",
       "      <td>C2411</td>\n",
       "      <td>962</td>\n",
       "      <td>아파트</td>\n",
       "      <td>경상남도</td>\n",
       "      <td>국민임대</td>\n",
       "      <td>46.90</td>\n",
       "      <td>240</td>\n",
       "      <td>25.0</td>\n",
       "      <td>NaN</td>\n",
       "      <td>71950000.0</td>\n",
       "      <td>37470.0</td>\n",
       "      <td>0.0</td>\n",
       "      <td>2.0</td>\n",
       "      <td>840.0</td>\n",
       "    </tr>\n",
       "    <tr>\n",
       "      <th>258</th>\n",
       "      <td>C2253</td>\n",
       "      <td>1161</td>\n",
       "      <td>아파트</td>\n",
       "      <td>강원도</td>\n",
       "      <td>영구임대</td>\n",
       "      <td>26.37</td>\n",
       "      <td>745</td>\n",
       "      <td>0.0</td>\n",
       "      <td>NaN</td>\n",
       "      <td>2249000.0</td>\n",
       "      <td>44770.0</td>\n",
       "      <td>0.0</td>\n",
       "      <td>2.0</td>\n",
       "      <td>173.0</td>\n",
       "    </tr>\n",
       "  </tbody>\n",
       "</table>\n",
       "</div>"
      ],
      "text/plain": [
       "      단지코드  총세대수 임대건물구분    지역  공급유형   전용면적  전용면적별세대수   공가수 자격유형       임대보증금  \\\n",
       "196  C2411   962    아파트  경상남도  국민임대  46.90       240  25.0  NaN  71950000.0   \n",
       "258  C2253  1161    아파트   강원도  영구임대  26.37       745   0.0  NaN   2249000.0   \n",
       "\n",
       "         임대료  도보 10분거리 내 지하철역 수(환승노선 수 반영)  도보 10분거리 내 버스정류장 수  단지내주차면수  \n",
       "196  37470.0                           0.0                 2.0    840.0  \n",
       "258  44770.0                           0.0                 2.0    173.0  "
      ]
     },
     "execution_count": 275,
     "metadata": {},
     "output_type": "execute_result"
    }
   ],
   "source": [
    "test[test.자격유형.isnull()]"
   ]
  },
  {
   "cell_type": "code",
   "execution_count": 276,
   "metadata": {
    "colab": {
     "base_uri": "https://localhost:8080/",
     "height": 204
    },
    "id": "OtojxNBO8S_3",
    "outputId": "35c1ebc5-279f-4e88-dc0d-1da45d298f5c"
   },
   "outputs": [
    {
     "data": {
      "text/html": [
       "<div>\n",
       "<style scoped>\n",
       "    .dataframe tbody tr th:only-of-type {\n",
       "        vertical-align: middle;\n",
       "    }\n",
       "\n",
       "    .dataframe tbody tr th {\n",
       "        vertical-align: top;\n",
       "    }\n",
       "\n",
       "    .dataframe thead th {\n",
       "        text-align: right;\n",
       "    }\n",
       "</style>\n",
       "<table border=\"1\" class=\"dataframe\">\n",
       "  <thead>\n",
       "    <tr style=\"text-align: right;\">\n",
       "      <th></th>\n",
       "      <th>단지코드</th>\n",
       "      <th>총세대수</th>\n",
       "      <th>임대건물구분</th>\n",
       "      <th>지역</th>\n",
       "      <th>공급유형</th>\n",
       "      <th>전용면적</th>\n",
       "      <th>전용면적별세대수</th>\n",
       "      <th>공가수</th>\n",
       "      <th>자격유형</th>\n",
       "      <th>임대보증금</th>\n",
       "      <th>임대료</th>\n",
       "      <th>도보 10분거리 내 지하철역 수(환승노선 수 반영)</th>\n",
       "      <th>도보 10분거리 내 버스정류장 수</th>\n",
       "      <th>단지내주차면수</th>\n",
       "    </tr>\n",
       "  </thead>\n",
       "  <tbody>\n",
       "    <tr>\n",
       "      <th>193</th>\n",
       "      <td>C2411</td>\n",
       "      <td>962</td>\n",
       "      <td>아파트</td>\n",
       "      <td>경상남도</td>\n",
       "      <td>국민임대</td>\n",
       "      <td>39.43</td>\n",
       "      <td>56</td>\n",
       "      <td>25.0</td>\n",
       "      <td>A</td>\n",
       "      <td>11992000.0</td>\n",
       "      <td>100720.0</td>\n",
       "      <td>0.0</td>\n",
       "      <td>2.0</td>\n",
       "      <td>840.0</td>\n",
       "    </tr>\n",
       "    <tr>\n",
       "      <th>194</th>\n",
       "      <td>C2411</td>\n",
       "      <td>962</td>\n",
       "      <td>아파트</td>\n",
       "      <td>경상남도</td>\n",
       "      <td>국민임대</td>\n",
       "      <td>39.72</td>\n",
       "      <td>336</td>\n",
       "      <td>25.0</td>\n",
       "      <td>A</td>\n",
       "      <td>11992000.0</td>\n",
       "      <td>100720.0</td>\n",
       "      <td>0.0</td>\n",
       "      <td>2.0</td>\n",
       "      <td>840.0</td>\n",
       "    </tr>\n",
       "    <tr>\n",
       "      <th>195</th>\n",
       "      <td>C2411</td>\n",
       "      <td>962</td>\n",
       "      <td>아파트</td>\n",
       "      <td>경상남도</td>\n",
       "      <td>국민임대</td>\n",
       "      <td>39.82</td>\n",
       "      <td>179</td>\n",
       "      <td>25.0</td>\n",
       "      <td>A</td>\n",
       "      <td>11992000.0</td>\n",
       "      <td>100720.0</td>\n",
       "      <td>0.0</td>\n",
       "      <td>2.0</td>\n",
       "      <td>840.0</td>\n",
       "    </tr>\n",
       "    <tr>\n",
       "      <th>196</th>\n",
       "      <td>C2411</td>\n",
       "      <td>962</td>\n",
       "      <td>아파트</td>\n",
       "      <td>경상남도</td>\n",
       "      <td>국민임대</td>\n",
       "      <td>46.90</td>\n",
       "      <td>240</td>\n",
       "      <td>25.0</td>\n",
       "      <td>NaN</td>\n",
       "      <td>71950000.0</td>\n",
       "      <td>37470.0</td>\n",
       "      <td>0.0</td>\n",
       "      <td>2.0</td>\n",
       "      <td>840.0</td>\n",
       "    </tr>\n",
       "    <tr>\n",
       "      <th>197</th>\n",
       "      <td>C2411</td>\n",
       "      <td>962</td>\n",
       "      <td>아파트</td>\n",
       "      <td>경상남도</td>\n",
       "      <td>국민임대</td>\n",
       "      <td>51.93</td>\n",
       "      <td>150</td>\n",
       "      <td>25.0</td>\n",
       "      <td>A</td>\n",
       "      <td>21586000.0</td>\n",
       "      <td>171480.0</td>\n",
       "      <td>0.0</td>\n",
       "      <td>2.0</td>\n",
       "      <td>840.0</td>\n",
       "    </tr>\n",
       "  </tbody>\n",
       "</table>\n",
       "</div>"
      ],
      "text/plain": [
       "      단지코드  총세대수 임대건물구분    지역  공급유형   전용면적  전용면적별세대수   공가수 자격유형       임대보증금  \\\n",
       "193  C2411   962    아파트  경상남도  국민임대  39.43        56  25.0    A  11992000.0   \n",
       "194  C2411   962    아파트  경상남도  국민임대  39.72       336  25.0    A  11992000.0   \n",
       "195  C2411   962    아파트  경상남도  국민임대  39.82       179  25.0    A  11992000.0   \n",
       "196  C2411   962    아파트  경상남도  국민임대  46.90       240  25.0  NaN  71950000.0   \n",
       "197  C2411   962    아파트  경상남도  국민임대  51.93       150  25.0    A  21586000.0   \n",
       "\n",
       "          임대료  도보 10분거리 내 지하철역 수(환승노선 수 반영)  도보 10분거리 내 버스정류장 수  단지내주차면수  \n",
       "193  100720.0                           0.0                 2.0    840.0  \n",
       "194  100720.0                           0.0                 2.0    840.0  \n",
       "195  100720.0                           0.0                 2.0    840.0  \n",
       "196   37470.0                           0.0                 2.0    840.0  \n",
       "197  171480.0                           0.0                 2.0    840.0  "
      ]
     },
     "execution_count": 276,
     "metadata": {},
     "output_type": "execute_result"
    }
   ],
   "source": [
    "test[test.단지코드=='C2411'] #같은 단지의 자격유형이 모두 A이므로 누락된 것으로 생각하고 A로 채워도 될 듯"
   ]
  },
  {
   "cell_type": "code",
   "execution_count": 277,
   "metadata": {
    "id": "Pk5aC3VZ8UDj"
   },
   "outputs": [],
   "source": [
    "test.loc[test.단지코드.isin(['C2411']) & test.자격유형.isnull(), '자격유형'] = 'A'"
   ]
  },
  {
   "cell_type": "code",
   "execution_count": 278,
   "metadata": {
    "colab": {
     "base_uri": "https://localhost:8080/",
     "height": 1000
    },
    "id": "RONtoW0c8VJP",
    "outputId": "a12be95c-2274-4ba7-ea0f-e9e7e38cf7a4"
   },
   "outputs": [
    {
     "data": {
      "text/html": [
       "<div>\n",
       "<style scoped>\n",
       "    .dataframe tbody tr th:only-of-type {\n",
       "        vertical-align: middle;\n",
       "    }\n",
       "\n",
       "    .dataframe tbody tr th {\n",
       "        vertical-align: top;\n",
       "    }\n",
       "\n",
       "    .dataframe thead th {\n",
       "        text-align: right;\n",
       "    }\n",
       "</style>\n",
       "<table border=\"1\" class=\"dataframe\">\n",
       "  <thead>\n",
       "    <tr style=\"text-align: right;\">\n",
       "      <th></th>\n",
       "      <th>단지코드</th>\n",
       "      <th>총세대수</th>\n",
       "      <th>임대건물구분</th>\n",
       "      <th>지역</th>\n",
       "      <th>공급유형</th>\n",
       "      <th>전용면적</th>\n",
       "      <th>전용면적별세대수</th>\n",
       "      <th>공가수</th>\n",
       "      <th>자격유형</th>\n",
       "      <th>임대보증금</th>\n",
       "      <th>임대료</th>\n",
       "      <th>도보 10분거리 내 지하철역 수(환승노선 수 반영)</th>\n",
       "      <th>도보 10분거리 내 버스정류장 수</th>\n",
       "      <th>단지내주차면수</th>\n",
       "    </tr>\n",
       "  </thead>\n",
       "  <tbody>\n",
       "    <tr>\n",
       "      <th>267</th>\n",
       "      <td>C2253</td>\n",
       "      <td>1161</td>\n",
       "      <td>상가</td>\n",
       "      <td>강원도</td>\n",
       "      <td>임대상가</td>\n",
       "      <td>23.86</td>\n",
       "      <td>1</td>\n",
       "      <td>0.0</td>\n",
       "      <td>D</td>\n",
       "      <td>1.772704e+07</td>\n",
       "      <td>179965.25974</td>\n",
       "      <td>0.0</td>\n",
       "      <td>2.0</td>\n",
       "      <td>173.0</td>\n",
       "    </tr>\n",
       "    <tr>\n",
       "      <th>278</th>\n",
       "      <td>C2253</td>\n",
       "      <td>1161</td>\n",
       "      <td>상가</td>\n",
       "      <td>강원도</td>\n",
       "      <td>임대상가</td>\n",
       "      <td>28.69</td>\n",
       "      <td>1</td>\n",
       "      <td>0.0</td>\n",
       "      <td>D</td>\n",
       "      <td>1.772704e+07</td>\n",
       "      <td>179965.25974</td>\n",
       "      <td>0.0</td>\n",
       "      <td>2.0</td>\n",
       "      <td>173.0</td>\n",
       "    </tr>\n",
       "    <tr>\n",
       "      <th>270</th>\n",
       "      <td>C2253</td>\n",
       "      <td>1161</td>\n",
       "      <td>상가</td>\n",
       "      <td>강원도</td>\n",
       "      <td>임대상가</td>\n",
       "      <td>27.75</td>\n",
       "      <td>1</td>\n",
       "      <td>0.0</td>\n",
       "      <td>D</td>\n",
       "      <td>1.772704e+07</td>\n",
       "      <td>179965.25974</td>\n",
       "      <td>0.0</td>\n",
       "      <td>2.0</td>\n",
       "      <td>173.0</td>\n",
       "    </tr>\n",
       "    <tr>\n",
       "      <th>283</th>\n",
       "      <td>C2253</td>\n",
       "      <td>1161</td>\n",
       "      <td>상가</td>\n",
       "      <td>강원도</td>\n",
       "      <td>임대상가</td>\n",
       "      <td>42.35</td>\n",
       "      <td>1</td>\n",
       "      <td>0.0</td>\n",
       "      <td>D</td>\n",
       "      <td>1.772704e+07</td>\n",
       "      <td>179965.25974</td>\n",
       "      <td>0.0</td>\n",
       "      <td>2.0</td>\n",
       "      <td>173.0</td>\n",
       "    </tr>\n",
       "    <tr>\n",
       "      <th>280</th>\n",
       "      <td>C2253</td>\n",
       "      <td>1161</td>\n",
       "      <td>상가</td>\n",
       "      <td>강원도</td>\n",
       "      <td>임대상가</td>\n",
       "      <td>28.69</td>\n",
       "      <td>1</td>\n",
       "      <td>0.0</td>\n",
       "      <td>D</td>\n",
       "      <td>1.772704e+07</td>\n",
       "      <td>179965.25974</td>\n",
       "      <td>0.0</td>\n",
       "      <td>2.0</td>\n",
       "      <td>173.0</td>\n",
       "    </tr>\n",
       "    <tr>\n",
       "      <th>260</th>\n",
       "      <td>C2253</td>\n",
       "      <td>1161</td>\n",
       "      <td>아파트</td>\n",
       "      <td>강원도</td>\n",
       "      <td>영구임대</td>\n",
       "      <td>31.32</td>\n",
       "      <td>149</td>\n",
       "      <td>0.0</td>\n",
       "      <td>C</td>\n",
       "      <td>3.731000e+06</td>\n",
       "      <td>83020.00000</td>\n",
       "      <td>0.0</td>\n",
       "      <td>2.0</td>\n",
       "      <td>173.0</td>\n",
       "    </tr>\n",
       "    <tr>\n",
       "      <th>262</th>\n",
       "      <td>C2253</td>\n",
       "      <td>1161</td>\n",
       "      <td>상가</td>\n",
       "      <td>강원도</td>\n",
       "      <td>임대상가</td>\n",
       "      <td>22.89</td>\n",
       "      <td>1</td>\n",
       "      <td>0.0</td>\n",
       "      <td>D</td>\n",
       "      <td>1.772704e+07</td>\n",
       "      <td>179965.25974</td>\n",
       "      <td>0.0</td>\n",
       "      <td>2.0</td>\n",
       "      <td>173.0</td>\n",
       "    </tr>\n",
       "    <tr>\n",
       "      <th>277</th>\n",
       "      <td>C2253</td>\n",
       "      <td>1161</td>\n",
       "      <td>상가</td>\n",
       "      <td>강원도</td>\n",
       "      <td>임대상가</td>\n",
       "      <td>28.69</td>\n",
       "      <td>1</td>\n",
       "      <td>0.0</td>\n",
       "      <td>D</td>\n",
       "      <td>1.772704e+07</td>\n",
       "      <td>179965.25974</td>\n",
       "      <td>0.0</td>\n",
       "      <td>2.0</td>\n",
       "      <td>173.0</td>\n",
       "    </tr>\n",
       "    <tr>\n",
       "      <th>276</th>\n",
       "      <td>C2253</td>\n",
       "      <td>1161</td>\n",
       "      <td>상가</td>\n",
       "      <td>강원도</td>\n",
       "      <td>임대상가</td>\n",
       "      <td>28.69</td>\n",
       "      <td>1</td>\n",
       "      <td>0.0</td>\n",
       "      <td>D</td>\n",
       "      <td>1.772704e+07</td>\n",
       "      <td>179965.25974</td>\n",
       "      <td>0.0</td>\n",
       "      <td>2.0</td>\n",
       "      <td>173.0</td>\n",
       "    </tr>\n",
       "    <tr>\n",
       "      <th>286</th>\n",
       "      <td>C2253</td>\n",
       "      <td>1161</td>\n",
       "      <td>상가</td>\n",
       "      <td>강원도</td>\n",
       "      <td>임대상가</td>\n",
       "      <td>55.50</td>\n",
       "      <td>1</td>\n",
       "      <td>0.0</td>\n",
       "      <td>D</td>\n",
       "      <td>1.772704e+07</td>\n",
       "      <td>179965.25974</td>\n",
       "      <td>0.0</td>\n",
       "      <td>2.0</td>\n",
       "      <td>173.0</td>\n",
       "    </tr>\n",
       "  </tbody>\n",
       "</table>\n",
       "</div>"
      ],
      "text/plain": [
       "      단지코드  총세대수 임대건물구분   지역  공급유형   전용면적  전용면적별세대수  공가수 자격유형         임대보증금  \\\n",
       "267  C2253  1161     상가  강원도  임대상가  23.86         1  0.0    D  1.772704e+07   \n",
       "278  C2253  1161     상가  강원도  임대상가  28.69         1  0.0    D  1.772704e+07   \n",
       "270  C2253  1161     상가  강원도  임대상가  27.75         1  0.0    D  1.772704e+07   \n",
       "283  C2253  1161     상가  강원도  임대상가  42.35         1  0.0    D  1.772704e+07   \n",
       "280  C2253  1161     상가  강원도  임대상가  28.69         1  0.0    D  1.772704e+07   \n",
       "260  C2253  1161    아파트  강원도  영구임대  31.32       149  0.0    C  3.731000e+06   \n",
       "262  C2253  1161     상가  강원도  임대상가  22.89         1  0.0    D  1.772704e+07   \n",
       "277  C2253  1161     상가  강원도  임대상가  28.69         1  0.0    D  1.772704e+07   \n",
       "276  C2253  1161     상가  강원도  임대상가  28.69         1  0.0    D  1.772704e+07   \n",
       "286  C2253  1161     상가  강원도  임대상가  55.50         1  0.0    D  1.772704e+07   \n",
       "\n",
       "              임대료  도보 10분거리 내 지하철역 수(환승노선 수 반영)  도보 10분거리 내 버스정류장 수  단지내주차면수  \n",
       "267  179965.25974                           0.0                 2.0    173.0  \n",
       "278  179965.25974                           0.0                 2.0    173.0  \n",
       "270  179965.25974                           0.0                 2.0    173.0  \n",
       "283  179965.25974                           0.0                 2.0    173.0  \n",
       "280  179965.25974                           0.0                 2.0    173.0  \n",
       "260   83020.00000                           0.0                 2.0    173.0  \n",
       "262  179965.25974                           0.0                 2.0    173.0  \n",
       "277  179965.25974                           0.0                 2.0    173.0  \n",
       "276  179965.25974                           0.0                 2.0    173.0  \n",
       "286  179965.25974                           0.0                 2.0    173.0  "
      ]
     },
     "execution_count": 278,
     "metadata": {},
     "output_type": "execute_result"
    }
   ],
   "source": [
    "test[test.단지코드=='C2253'].sample(10) #같은 단지의 임대상가가 아닌 영구임대 유형의 경우 모두 C이므로 C로 채워도 될 듯"
   ]
  },
  {
   "cell_type": "code",
   "execution_count": 279,
   "metadata": {
    "id": "nhiApw2w8WfF"
   },
   "outputs": [],
   "source": [
    "test.loc[test.단지코드.isin(['C2253']) & test.자격유형.isnull(), '자격유형'] = 'C'"
   ]
  },
  {
   "cell_type": "markdown",
   "metadata": {
    "id": "R_JtUYtsuET_"
   },
   "source": [
    "### 공급 + 자격?\n",
    "* 공급유형과 자격유형이 어느정도의 관련성이 있을 것으로 예상해 이를 합쳐서 새로운 특성으로 바꿨습니다. 실제로 고유값이 그렇게 많이 만들어지지는 않았음을 확인할 수 있었습니다. "
   ]
  },
  {
   "cell_type": "code",
   "execution_count": 280,
   "metadata": {
    "colab": {
     "base_uri": "https://localhost:8080/",
     "height": 606
    },
    "id": "Bmj-ej_a8coo",
    "outputId": "461c96f1-ce60-4bb3-b3ff-672786700fd7"
   },
   "outputs": [
    {
     "data": {
      "text/html": [
       "<div>\n",
       "<style scoped>\n",
       "    .dataframe tbody tr th:only-of-type {\n",
       "        vertical-align: middle;\n",
       "    }\n",
       "\n",
       "    .dataframe tbody tr th {\n",
       "        vertical-align: top;\n",
       "    }\n",
       "\n",
       "    .dataframe thead th {\n",
       "        text-align: right;\n",
       "    }\n",
       "</style>\n",
       "<table border=\"1\" class=\"dataframe\">\n",
       "  <thead>\n",
       "    <tr style=\"text-align: right;\">\n",
       "      <th></th>\n",
       "      <th>단지코드</th>\n",
       "      <th>총세대수</th>\n",
       "      <th>임대건물구분</th>\n",
       "      <th>지역</th>\n",
       "      <th>공급유형</th>\n",
       "      <th>전용면적</th>\n",
       "      <th>전용면적별세대수</th>\n",
       "      <th>공가수</th>\n",
       "      <th>자격유형</th>\n",
       "      <th>임대보증금</th>\n",
       "      <th>임대료</th>\n",
       "      <th>도보 10분거리 내 지하철역 수(환승노선 수 반영)</th>\n",
       "      <th>도보 10분거리 내 버스정류장 수</th>\n",
       "      <th>단지내주차면수</th>\n",
       "      <th>등록차량수</th>\n",
       "      <th>공급_자격</th>\n",
       "    </tr>\n",
       "  </thead>\n",
       "  <tbody>\n",
       "    <tr>\n",
       "      <th>8</th>\n",
       "      <td>C2515</td>\n",
       "      <td>545</td>\n",
       "      <td>아파트</td>\n",
       "      <td>경상남도</td>\n",
       "      <td>국민임대</td>\n",
       "      <td>33.48</td>\n",
       "      <td>276</td>\n",
       "      <td>17.0</td>\n",
       "      <td>A</td>\n",
       "      <td>9216000.0</td>\n",
       "      <td>82940.0</td>\n",
       "      <td>0.0</td>\n",
       "      <td>3.0</td>\n",
       "      <td>624.0</td>\n",
       "      <td>205.0</td>\n",
       "      <td>국민임대_A</td>\n",
       "    </tr>\n",
       "    <tr>\n",
       "      <th>9</th>\n",
       "      <td>C2515</td>\n",
       "      <td>545</td>\n",
       "      <td>아파트</td>\n",
       "      <td>경상남도</td>\n",
       "      <td>국민임대</td>\n",
       "      <td>39.60</td>\n",
       "      <td>60</td>\n",
       "      <td>17.0</td>\n",
       "      <td>A</td>\n",
       "      <td>12672000.0</td>\n",
       "      <td>107130.0</td>\n",
       "      <td>0.0</td>\n",
       "      <td>3.0</td>\n",
       "      <td>624.0</td>\n",
       "      <td>205.0</td>\n",
       "      <td>국민임대_A</td>\n",
       "    </tr>\n",
       "    <tr>\n",
       "      <th>10</th>\n",
       "      <td>C2515</td>\n",
       "      <td>545</td>\n",
       "      <td>아파트</td>\n",
       "      <td>경상남도</td>\n",
       "      <td>국민임대</td>\n",
       "      <td>39.60</td>\n",
       "      <td>20</td>\n",
       "      <td>17.0</td>\n",
       "      <td>A</td>\n",
       "      <td>12672000.0</td>\n",
       "      <td>107130.0</td>\n",
       "      <td>0.0</td>\n",
       "      <td>3.0</td>\n",
       "      <td>624.0</td>\n",
       "      <td>205.0</td>\n",
       "      <td>국민임대_A</td>\n",
       "    </tr>\n",
       "    <tr>\n",
       "      <th>11</th>\n",
       "      <td>C2515</td>\n",
       "      <td>545</td>\n",
       "      <td>아파트</td>\n",
       "      <td>경상남도</td>\n",
       "      <td>국민임대</td>\n",
       "      <td>46.90</td>\n",
       "      <td>38</td>\n",
       "      <td>17.0</td>\n",
       "      <td>A</td>\n",
       "      <td>18433000.0</td>\n",
       "      <td>149760.0</td>\n",
       "      <td>0.0</td>\n",
       "      <td>3.0</td>\n",
       "      <td>624.0</td>\n",
       "      <td>205.0</td>\n",
       "      <td>국민임대_A</td>\n",
       "    </tr>\n",
       "    <tr>\n",
       "      <th>12</th>\n",
       "      <td>C2515</td>\n",
       "      <td>545</td>\n",
       "      <td>아파트</td>\n",
       "      <td>경상남도</td>\n",
       "      <td>국민임대</td>\n",
       "      <td>46.90</td>\n",
       "      <td>19</td>\n",
       "      <td>17.0</td>\n",
       "      <td>A</td>\n",
       "      <td>18433000.0</td>\n",
       "      <td>149760.0</td>\n",
       "      <td>0.0</td>\n",
       "      <td>3.0</td>\n",
       "      <td>624.0</td>\n",
       "      <td>205.0</td>\n",
       "      <td>국민임대_A</td>\n",
       "    </tr>\n",
       "  </tbody>\n",
       "</table>\n",
       "</div>"
      ],
      "text/plain": [
       "     단지코드  총세대수 임대건물구분    지역  공급유형   전용면적  전용면적별세대수   공가수 자격유형       임대보증금  \\\n",
       "8   C2515   545    아파트  경상남도  국민임대  33.48       276  17.0    A   9216000.0   \n",
       "9   C2515   545    아파트  경상남도  국민임대  39.60        60  17.0    A  12672000.0   \n",
       "10  C2515   545    아파트  경상남도  국민임대  39.60        20  17.0    A  12672000.0   \n",
       "11  C2515   545    아파트  경상남도  국민임대  46.90        38  17.0    A  18433000.0   \n",
       "12  C2515   545    아파트  경상남도  국민임대  46.90        19  17.0    A  18433000.0   \n",
       "\n",
       "         임대료  도보 10분거리 내 지하철역 수(환승노선 수 반영)  도보 10분거리 내 버스정류장 수  단지내주차면수  \\\n",
       "8    82940.0                           0.0                 3.0    624.0   \n",
       "9   107130.0                           0.0                 3.0    624.0   \n",
       "10  107130.0                           0.0                 3.0    624.0   \n",
       "11  149760.0                           0.0                 3.0    624.0   \n",
       "12  149760.0                           0.0                 3.0    624.0   \n",
       "\n",
       "    등록차량수   공급_자격  \n",
       "8   205.0  국민임대_A  \n",
       "9   205.0  국민임대_A  \n",
       "10  205.0  국민임대_A  \n",
       "11  205.0  국민임대_A  \n",
       "12  205.0  국민임대_A  "
      ]
     },
     "execution_count": 280,
     "metadata": {},
     "output_type": "execute_result"
    }
   ],
   "source": [
    "train['공급_자격'] = train.apply(lambda r : r['공급유형'] + '_' +r['자격유형'], axis=1)\n",
    "test['공급_자격'] = test.apply(lambda r : r['공급유형'] + '_' +r['자격유형'], axis=1)\n",
    "train.head()"
   ]
  },
  {
   "cell_type": "code",
   "execution_count": 281,
   "metadata": {
    "colab": {
     "base_uri": "https://localhost:8080/"
    },
    "id": "dRUmYRsJunKi",
    "outputId": "d565b771-134b-46cc-e605-07f60bc35cb5"
   },
   "outputs": [
    {
     "name": "stdout",
     "output_type": "stream",
     "text": [
      "train - test (공급_자격 차집합) :  {'장기전세_A', '영구임대_E', '영구임대_F', '국민임대_B', '공공분양_D', '영구임대_A', '공공임대(5년)_A', '행복주택_O'}\n",
      "test - train (공급_자격 차집합) :  {'영구임대_D'}\n"
     ]
    }
   ],
   "source": [
    "print(\"train - test (공급_자격 차집합) : \", set(train.공급_자격).difference(set(test.공급_자격))) ##train에만 있는 값들 찾아보기 \n",
    "print(\"test - train (공급_자격 차집합) : \", set(test.공급_자격).difference(set(train.공급_자격)))"
   ]
  },
  {
   "cell_type": "code",
   "execution_count": 282,
   "metadata": {
    "id": "mkJubgL-8dju"
   },
   "outputs": [],
   "source": [
    "train = train[train.공급_자격 != '공공분양_D']\n",
    "train = train[train.공급_자격 != '공공임대(5년)_A']\n",
    "train = train[train.공급_자격 != '국민임대_B']\n",
    "train = train[train.공급_자격 != '영구임대_A']\n",
    "train = train[train.공급_자격 != '영구임대_E']\n",
    "train = train[train.공급_자격 != '영구임대_F']\n",
    "train = train[train.공급_자격 != '장기전세_A']\n",
    "train = train[train.공급_자격 != '행복주택_O']\n",
    "\n",
    "test = test[test.공급_자격 != '영구임대_D']"
   ]
  },
  {
   "cell_type": "code",
   "execution_count": 283,
   "metadata": {
    "id": "7uNcX5Bs8fBs"
   },
   "outputs": [],
   "source": [
    "train['전용면적'] = train['전용면적']//2*2  ##현재는 2*2일 때 가장 성능이 좋았었다. \n",
    "test['전용면적'] = test['전용면적']//2*2"
   ]
  },
  {
   "cell_type": "code",
   "execution_count": 284,
   "metadata": {
    "colab": {
     "base_uri": "https://localhost:8080/"
    },
    "id": "sqVdWW_DvUG6",
    "outputId": "213f6970-207a-4a47-dd04-8a746d6e73b7"
   },
   "outputs": [
    {
     "name": "stdout",
     "output_type": "stream",
     "text": [
      "train - test (전용면적 차집합) :  {66.0, 136.0, 72.0, 108.0, 52.0, 406.0, 56.0, 126.0, 316.0, 62.0}\n",
      "test - train (전용면적 차집합) :  {8.0, 252.0}\n"
     ]
    }
   ],
   "source": [
    "print(\"train - test (전용면적 차집합) : \", set(train.전용면적).difference(set(test.전용면적))) ##train에만 있는 값들 찾아보기 \n",
    "print(\"test - train (전용면적 차집합) : \", set(test.전용면적).difference(set(train.전용면적)))"
   ]
  },
  {
   "cell_type": "code",
   "execution_count": 285,
   "metadata": {
    "id": "w_wr2YCR8jSU"
   },
   "outputs": [],
   "source": [
    "train = train[train.전용면적 != 52]##\n",
    "train = train[train.전용면적 != 56]##\n",
    "train = train[train.전용면적 != 62]##\n",
    "train = train[train.전용면적 != 64]\n",
    "train = train[train.전용면적 != 66] ##\n",
    "train = train[train.전용면적 != 72] ##\n",
    "train = train[train.전용면적 != 78]\n",
    "train = train[train.전용면적 != 108] ##\n",
    "train = train[train.전용면적 != 126]##\n",
    "train = train[train.전용면적 != 136]##\n",
    "train = train[train.전용면적 != 316]##\n",
    "train = train[train.전용면적 != 406]##\n",
    "\n",
    "test = test[test.전용면적 != 8]\n",
    "test = test[test.전용면적 != 252]"
   ]
  },
  {
   "cell_type": "code",
   "execution_count": 286,
   "metadata": {
    "colab": {
     "base_uri": "https://localhost:8080/"
    },
    "id": "PEqfD9TsyFHE",
    "outputId": "7bcc9ccf-8e99-48c0-9de5-288a11ee0493"
   },
   "outputs": [
    {
     "name": "stdout",
     "output_type": "stream",
     "text": [
      "train - test (지역 차집합) :  {'서울특별시'}\n",
      "test - train (지역 차집합) :  set()\n"
     ]
    }
   ],
   "source": [
    "print(\"train - test (지역 차집합) : \", set(train.지역).difference(set(test.지역))) ##train에만 있는 값들 찾아보기 \n",
    "print(\"test - train (지역 차집합) : \", set(test.지역).difference(set(train.지역)))"
   ]
  },
  {
   "cell_type": "code",
   "execution_count": 287,
   "metadata": {
    "id": "YXcIfHu98qug"
   },
   "outputs": [],
   "source": [
    "train = train[train.지역 != '서울특별시'] ##컬럼의 특정 값이면 제거하는 방법 "
   ]
  },
  {
   "cell_type": "markdown",
   "metadata": {
    "id": "CtD1tBCHzClf"
   },
   "source": [
    "### age_gender에서 미성년자(20대 미만) 비율만 가져와서 join\n",
    "이 값이 높다면 등록차량 수가 낮을 것이라는 판단이었습니다."
   ]
  },
  {
   "cell_type": "code",
   "execution_count": 288,
   "metadata": {
    "id": "HueyhNsq8mNE"
   },
   "outputs": [],
   "source": [
    "minors = ['10대미만(여자)', '10대미만(남자)', '10대(여자)', '10대(남자)']\n",
    "age_gender['미성년자'] = age_gender[minors].sum(axis=1)"
   ]
  },
  {
   "cell_type": "code",
   "execution_count": 289,
   "metadata": {
    "id": "SLjqx7Bz8p7D"
   },
   "outputs": [],
   "source": [
    "train = train.merge(age_gender, left_on= [\"지역\"], right_on= [\"지역\"], how='left')\n",
    "test = test.merge(age_gender, left_on= [\"지역\"], right_on= [\"지역\"], how='left')"
   ]
  },
  {
   "cell_type": "markdown",
   "metadata": {
    "id": "WNbzyk8QzTsx"
   },
   "source": [
    "## 데이터 정리 및 병합"
   ]
  },
  {
   "cell_type": "code",
   "execution_count": 290,
   "metadata": {
    "colab": {
     "base_uri": "https://localhost:8080/"
    },
    "id": "7BDrP2vf81Jp",
    "outputId": "45c52239-2951-406b-c442-b74e7867a017"
   },
   "outputs": [
    {
     "data": {
      "text/plain": [
       "((2719, 39), (2311, 39))"
      ]
     },
     "execution_count": 290,
     "metadata": {},
     "output_type": "execute_result"
    }
   ],
   "source": [
    "train.shape, train.drop_duplicates().shape"
   ]
  },
  {
   "cell_type": "code",
   "execution_count": 291,
   "metadata": {
    "colab": {
     "base_uri": "https://localhost:8080/"
    },
    "id": "oRcNhE1482nt",
    "outputId": "31df9459-0457-4970-89d5-42a3a0f8c5e2"
   },
   "outputs": [
    {
     "data": {
      "text/plain": [
       "((1017, 38), (891, 38))"
      ]
     },
     "execution_count": 291,
     "metadata": {},
     "output_type": "execute_result"
    }
   ],
   "source": [
    "test.shape, test.drop_duplicates().shape"
   ]
  },
  {
   "cell_type": "code",
   "execution_count": 292,
   "metadata": {
    "id": "PD8MqVsc8409"
   },
   "outputs": [],
   "source": [
    "train = train.drop_duplicates()\n",
    "test = test.drop_duplicates()"
   ]
  },
  {
   "cell_type": "code",
   "execution_count": 293,
   "metadata": {
    "id": "Ol_KoE1v88tv"
   },
   "outputs": [],
   "source": [
    "unique_cols = ['총세대수', '지역', '공가수', '미성년자', \n",
    "               '도보 10분거리 내 지하철역 수(환승노선 수 반영)',\n",
    "               '도보 10분거리 내 버스정류장 수',\n",
    "               '단지내주차면수', '등록차량수']\n",
    "##,'10대미만(여자)',\t'10대미만(남자)',\t'10대(여자)',\t'10대(남자)',\t'20대(여자)',\t'20대(남자)',\t'30대(여자)',\t'30대(남자)',\t'40대(여자)',\t'40대(남자)',\t'50대(여자)',\t'50대(남자)',\t'60대(여자)',\t'60대(남자)',\t'70대(여자)',\t'70대(남자)',\t'80대(여자)',\t'80대(남자)',\t'90대(여자)',\t'90대(남자)',\t'100대(여자)',\t'100대(남자)'\n",
    "train_agg = train.set_index('단지코드')[unique_cols].drop_duplicates()\n",
    "test_agg = test.set_index('단지코드')[[col for col in unique_cols if col!='등록차량수']].drop_duplicates()"
   ]
  },
  {
   "cell_type": "code",
   "execution_count": 294,
   "metadata": {
    "colab": {
     "base_uri": "https://localhost:8080/",
     "height": 235
    },
    "id": "ANK0U2bS8_1H",
    "outputId": "26366ef4-181b-4f1c-d565-4ded0bdde393"
   },
   "outputs": [
    {
     "data": {
      "text/html": [
       "<div>\n",
       "<style scoped>\n",
       "    .dataframe tbody tr th:only-of-type {\n",
       "        vertical-align: middle;\n",
       "    }\n",
       "\n",
       "    .dataframe tbody tr th {\n",
       "        vertical-align: top;\n",
       "    }\n",
       "\n",
       "    .dataframe thead th {\n",
       "        text-align: right;\n",
       "    }\n",
       "</style>\n",
       "<table border=\"1\" class=\"dataframe\">\n",
       "  <thead>\n",
       "    <tr style=\"text-align: right;\">\n",
       "      <th></th>\n",
       "      <th>총세대수</th>\n",
       "      <th>지역</th>\n",
       "      <th>공가수</th>\n",
       "      <th>미성년자</th>\n",
       "      <th>도보 10분거리 내 지하철역 수(환승노선 수 반영)</th>\n",
       "      <th>도보 10분거리 내 버스정류장 수</th>\n",
       "      <th>단지내주차면수</th>\n",
       "      <th>등록차량수</th>\n",
       "    </tr>\n",
       "    <tr>\n",
       "      <th>단지코드</th>\n",
       "      <th></th>\n",
       "      <th></th>\n",
       "      <th></th>\n",
       "      <th></th>\n",
       "      <th></th>\n",
       "      <th></th>\n",
       "      <th></th>\n",
       "      <th></th>\n",
       "    </tr>\n",
       "  </thead>\n",
       "  <tbody>\n",
       "    <tr>\n",
       "      <th>C2515</th>\n",
       "      <td>545</td>\n",
       "      <td>경상남도</td>\n",
       "      <td>17.0</td>\n",
       "      <td>0.163127</td>\n",
       "      <td>0.0</td>\n",
       "      <td>3.0</td>\n",
       "      <td>624.0</td>\n",
       "      <td>205.0</td>\n",
       "    </tr>\n",
       "    <tr>\n",
       "      <th>C1407</th>\n",
       "      <td>1216</td>\n",
       "      <td>대전광역시</td>\n",
       "      <td>13.0</td>\n",
       "      <td>0.140571</td>\n",
       "      <td>1.0</td>\n",
       "      <td>1.0</td>\n",
       "      <td>1285.0</td>\n",
       "      <td>1064.0</td>\n",
       "    </tr>\n",
       "    <tr>\n",
       "      <th>C1470</th>\n",
       "      <td>696</td>\n",
       "      <td>전라북도</td>\n",
       "      <td>14.0</td>\n",
       "      <td>0.176920</td>\n",
       "      <td>0.0</td>\n",
       "      <td>2.0</td>\n",
       "      <td>645.0</td>\n",
       "      <td>553.0</td>\n",
       "    </tr>\n",
       "    <tr>\n",
       "      <th>C1898</th>\n",
       "      <td>566</td>\n",
       "      <td>전라북도</td>\n",
       "      <td>9.0</td>\n",
       "      <td>0.176920</td>\n",
       "      <td>0.0</td>\n",
       "      <td>6.0</td>\n",
       "      <td>517.0</td>\n",
       "      <td>415.0</td>\n",
       "    </tr>\n",
       "    <tr>\n",
       "      <th>C1244</th>\n",
       "      <td>1722</td>\n",
       "      <td>경기도</td>\n",
       "      <td>10.0</td>\n",
       "      <td>0.184072</td>\n",
       "      <td>0.0</td>\n",
       "      <td>10.0</td>\n",
       "      <td>1483.0</td>\n",
       "      <td>1804.0</td>\n",
       "    </tr>\n",
       "  </tbody>\n",
       "</table>\n",
       "</div>"
      ],
      "text/plain": [
       "       총세대수     지역   공가수      미성년자  도보 10분거리 내 지하철역 수(환승노선 수 반영)  \\\n",
       "단지코드                                                               \n",
       "C2515   545   경상남도  17.0  0.163127                           0.0   \n",
       "C1407  1216  대전광역시  13.0  0.140571                           1.0   \n",
       "C1470   696   전라북도  14.0  0.176920                           0.0   \n",
       "C1898   566   전라북도   9.0  0.176920                           0.0   \n",
       "C1244  1722    경기도  10.0  0.184072                           0.0   \n",
       "\n",
       "       도보 10분거리 내 버스정류장 수  단지내주차면수   등록차량수  \n",
       "단지코드                                        \n",
       "C2515                 3.0    624.0   205.0  \n",
       "C1407                 1.0   1285.0  1064.0  \n",
       "C1470                 2.0    645.0   553.0  \n",
       "C1898                 6.0    517.0   415.0  \n",
       "C1244                10.0   1483.0  1804.0  "
      ]
     },
     "execution_count": 294,
     "metadata": {},
     "output_type": "execute_result"
    }
   ],
   "source": [
    "train_agg.head()"
   ]
  },
  {
   "cell_type": "markdown",
   "metadata": {
    "id": "dEonmoVYzcgm"
   },
   "source": [
    "### 임대 건물 구분, 전용면적 별 세대수, 임대보증금 \n",
    "등과 같이 처리가 애매한 값은 각 단지 별 mean값이나 고유값 개수로 처리"
   ]
  },
  {
   "cell_type": "code",
   "execution_count": 295,
   "metadata": {
    "id": "kuWSZ1uyfkUT"
   },
   "outputs": [],
   "source": [
    "tr = train.groupby(['단지코드']).mean() ##같은 단지코드 안에서의 평균 값, max 값 등은 data leakage가 아닌 것으로 보임 \n",
    "ts = test.groupby(['단지코드']).mean()\n",
    "\n",
    "train_agg['전용면적별세대수 평균'] = tr['전용면적별세대수']\n",
    "test_agg['전용면적별세대수 평균'] = ts['전용면적별세대수']\n",
    "\n",
    "train_agg['임대보증금 평균'] = tr['임대보증금']\n",
    "test_agg['임대보증금 평균'] = ts['임대보증금']\n",
    "\n",
    "train_agg['임대료 평균'] = tr['임대료']\n",
    "test_agg['임대료 평균'] = ts['임대료']"
   ]
  },
  {
   "cell_type": "code",
   "execution_count": 296,
   "metadata": {
    "id": "nE0YwkRb8_vD"
   },
   "outputs": [],
   "source": [
    "tr = train.groupby(['단지코드']).nunique(dropna=False)\n",
    "ts = test.groupby(['단지코드']).nunique(dropna=False)\n",
    "\n",
    "train_agg['임대건물구분'] = tr['임대건물구분']\n",
    "test_agg['임대건물구분'] = ts['임대건물구분']"
   ]
  },
  {
   "cell_type": "markdown",
   "metadata": {
    "id": "OiVZlsUnzwPu"
   },
   "source": [
    "### categorical 값들 펼치기 '파베르'님 코드 공유 참고 "
   ]
  },
  {
   "cell_type": "code",
   "execution_count": 297,
   "metadata": {
    "id": "ndlYEPlP9OE2"
   },
   "outputs": [],
   "source": [
    "def reshape_cat_features(data, cast_col, value_col):\n",
    "    res = data.drop_duplicates(['단지코드', cast_col]).assign(counter=1).pivot(index='단지코드', columns=cast_col, values=value_col).fillna(0)\n",
    "    res.columns.name = None\n",
    "    res = res.rename(columns={col:col for col in res.columns})\n",
    "    return res"
   ]
  },
  {
   "cell_type": "code",
   "execution_count": 298,
   "metadata": {
    "id": "-tws6HYp9R7m"
   },
   "outputs": [],
   "source": [
    "def reshape_cat_features_plus_underbar(data, cast_col, value_col):\n",
    "    res = data.drop_duplicates(['단지코드', cast_col]).assign(counter=1).pivot(index='단지코드', columns=cast_col, values=value_col).fillna(0)\n",
    "    res.columns.name = None\n",
    "    res = res.rename(columns={col:cast_col+'_'+ str(col) for col in res.columns})\n",
    "    return res"
   ]
  },
  {
   "cell_type": "code",
   "execution_count": 299,
   "metadata": {
    "id": "xFXr3mEx9hZJ"
   },
   "outputs": [],
   "source": [
    "def transportation_level(x): ##대중교통 값 조정 (원래 있던 값을 drop 하지 않았을 때 더 성능이 잘 나옴)\n",
    "    result = 0\n",
    "    if x <= 0 :\n",
    "        result = 5\n",
    "    elif 1 <= x <= 2:\n",
    "        result = 4\n",
    "    elif 3 <= x <= 4 :\n",
    "        result = 3\n",
    "    elif 5 <= x <= 6 :\n",
    "        result = 2\n",
    "    elif 7 <= x:\n",
    "        result = 1\n",
    "    return result"
   ]
  },
  {
   "cell_type": "markdown",
   "metadata": {
    "id": "loRDhjnm58XF"
   },
   "source": [
    "### 다 합친 데이터 생성 및 추가 처리(log)"
   ]
  },
  {
   "cell_type": "code",
   "execution_count": 300,
   "metadata": {
    "id": "mnl9seLw9YV8"
   },
   "outputs": [],
   "source": [
    "train_data = pd.concat([train_agg.drop(columns=['지역']), reshape_cat_features(data=train, cast_col='공급_자격', value_col='counter'),\n",
    "                        reshape_cat_features(data=train, cast_col='지역', value_col='counter'),\n",
    "                       reshape_cat_features_plus_underbar(data=train, cast_col='전용면적', value_col='counter')\n",
    "                       ], axis=1)\n",
    "test_data = pd.concat([test_agg.drop(columns=['지역']), reshape_cat_features(data=test, cast_col='공급_자격', value_col='counter'),\n",
    "                       reshape_cat_features(data=test, cast_col='지역', value_col='counter'),\n",
    "                       reshape_cat_features_plus_underbar(data=test, cast_col='전용면적', value_col='counter')\n",
    "                      ], axis=1)\n",
    "\n",
    "train_data['실거주율'] = (train_agg['총세대수'] - train_agg['공가수'])/train_agg['총세대수']\n",
    "test_data['실거주율'] = (test_agg['총세대수'] - test_agg['공가수'])/test_agg['총세대수']\n",
    "\n",
    "transport = ['도보 10분거리 내 지하철역 수(환승노선 수 반영)', '도보 10분거리 내 버스정류장 수']\n",
    "train_data['대중교통현황'] = train_agg[transport].sum(axis=1)\n",
    "test_data['대중교통현황'] = test_agg[transport].sum(axis=1)\n",
    "\n",
    "# train_data['대중교통현황'] = train_data['대중교통현황'].apply(transportation_level) \n",
    "# test_data['대중교통현황'] = test_data['대중교통현황'].apply(transportation_level)"
   ]
  },
  {
   "cell_type": "code",
   "execution_count": 301,
   "metadata": {
    "colab": {
     "base_uri": "https://localhost:8080/"
    },
    "id": "dkPjZaok9mib",
    "outputId": "84b4a93e-cbb3-4f54-b1f8-503764986c88"
   },
   "outputs": [
    {
     "data": {
      "text/plain": [
       "((397, 74), (150, 73))"
      ]
     },
     "execution_count": 301,
     "metadata": {},
     "output_type": "execute_result"
    }
   ],
   "source": [
    "train_data.shape, test_data.shape"
   ]
  },
  {
   "cell_type": "code",
   "execution_count": 302,
   "metadata": {
    "colab": {
     "base_uri": "https://localhost:8080/"
    },
    "id": "sMnimzgF9n3R",
    "outputId": "5e8ccf1c-b1f5-479c-cc16-3324779e26c3"
   },
   "outputs": [
    {
     "data": {
      "text/plain": [
       "임대건물구분        -0.311428\n",
       "임대상가_D        -0.311428\n",
       "영구임대_C        -0.299785\n",
       "전용면적_30.0     -0.275161\n",
       "전용면적_16.0     -0.192724\n",
       "                 ...   \n",
       "공공임대(10년)_A    0.398108\n",
       "임대료 평균         0.433797\n",
       "총세대수           0.604368\n",
       "단지내주차면수        0.848526\n",
       "등록차량수          1.000000\n",
       "Name: 등록차량수, Length: 74, dtype: float64"
      ]
     },
     "execution_count": 302,
     "metadata": {},
     "output_type": "execute_result"
    }
   ],
   "source": [
    "train_data.corr()['등록차량수'].sort_values() ##단지내주차면수가 너무 큰 상관관계성을 띄고 있음"
   ]
  },
  {
   "cell_type": "code",
   "execution_count": 303,
   "metadata": {
    "id": "LBFRCz2F9uVx"
   },
   "outputs": [],
   "source": [
    "train_data['주차면수/총세대'] = train_data['단지내주차면수'] / train_data['총세대수']\n",
    "test_data['주차면수/총세대'] = test_data['단지내주차면수'] / test_data['총세대수']\n",
    "\n",
    "## log취하기\n",
    "train_data['총세대수log'] = np.log1p(train_data['총세대수'])\n",
    "test_data['총세대수log'] = np.log1p(test_data['총세대수'])\n",
    "\n",
    "train_data['단지내주차면수log'] = np.log1p(train_data['단지내주차면수'])\n",
    "test_data['단지내주차면수log'] = np.log1p(test_data['단지내주차면수'])\n",
    "\n",
    "train_data['단지내주차면수/100'] = train_data['단지내주차면수']/100\n",
    "test_data['단지내주차면수/100'] = test_data['단지내주차면수']/100\n",
    "\n",
    "train_data['버스지하철log'] = np.log1p(train_data['대중교통현황'])\n",
    "test_data['버스지하철log'] = np.log1p(test_data['대중교통현황'])\n",
    "\n",
    "train_data['전용면적별세대수 평균 log'] = np.log1p(train_data['전용면적별세대수 평균'])\n",
    "test_data['전용면적별세대수 평균 log'] = np.log1p(test_data['전용면적별세대수 평균'])\n",
    "\n",
    "train_data['임대보증금 평균 log'] = np.log1p(train_data['임대보증금 평균'])\n",
    "test_data['임대보증금 평균 log'] = np.log1p(test_data['임대보증금 평균'])\n",
    "\n",
    "train_data['임대료 평균 log'] = np.log1p(train_data['임대료 평균'])\n",
    "test_data['임대료 평균 log'] = np.log1p(test_data['임대료 평균'])\n",
    "\n",
    "##target 값 비율로 바꾸고 필요 없는 특성 제거 (이를 target encoding 으로 칭하는 듯 함..?)\n",
    "# train_data['주차면수대비등록확률'] = train_data['등록차량수'] / train_data['단지내주차면수']\n",
    "# train_data = train_data.drop(columns=['등록차량수'])\n",
    "\n",
    "# train_data = train_data.drop(columns=['실거주가구'])\n",
    "# test_data = test_data.drop(columns=['실거주가구'])\n",
    "\n",
    "# train_data = train_data.drop(columns=['단지내주차면수'])\n",
    "# test_data = test_data.drop(columns=['단지내주차면수'])"
   ]
  },
  {
   "cell_type": "code",
   "execution_count": 304,
   "metadata": {
    "colab": {
     "base_uri": "https://localhost:8080/",
     "height": 559
    },
    "id": "h_TS5ZX491yi",
    "outputId": "70e1f387-8329-431e-9c1c-61d466073f1d"
   },
   "outputs": [
    {
     "data": {
      "text/html": [
       "<div>\n",
       "<style scoped>\n",
       "    .dataframe tbody tr th:only-of-type {\n",
       "        vertical-align: middle;\n",
       "    }\n",
       "\n",
       "    .dataframe tbody tr th {\n",
       "        vertical-align: top;\n",
       "    }\n",
       "\n",
       "    .dataframe thead th {\n",
       "        text-align: right;\n",
       "    }\n",
       "</style>\n",
       "<table border=\"1\" class=\"dataframe\">\n",
       "  <thead>\n",
       "    <tr style=\"text-align: right;\">\n",
       "      <th></th>\n",
       "      <th>총세대수</th>\n",
       "      <th>공가수</th>\n",
       "      <th>미성년자</th>\n",
       "      <th>도보 10분거리 내 지하철역 수(환승노선 수 반영)</th>\n",
       "      <th>도보 10분거리 내 버스정류장 수</th>\n",
       "      <th>단지내주차면수</th>\n",
       "      <th>등록차량수</th>\n",
       "      <th>전용면적별세대수 평균</th>\n",
       "      <th>임대보증금 평균</th>\n",
       "      <th>임대료 평균</th>\n",
       "      <th>...</th>\n",
       "      <th>실거주율</th>\n",
       "      <th>대중교통현황</th>\n",
       "      <th>주차면수/총세대</th>\n",
       "      <th>총세대수log</th>\n",
       "      <th>단지내주차면수log</th>\n",
       "      <th>단지내주차면수/100</th>\n",
       "      <th>버스지하철log</th>\n",
       "      <th>전용면적별세대수 평균 log</th>\n",
       "      <th>임대보증금 평균 log</th>\n",
       "      <th>임대료 평균 log</th>\n",
       "    </tr>\n",
       "    <tr>\n",
       "      <th>단지코드</th>\n",
       "      <th></th>\n",
       "      <th></th>\n",
       "      <th></th>\n",
       "      <th></th>\n",
       "      <th></th>\n",
       "      <th></th>\n",
       "      <th></th>\n",
       "      <th></th>\n",
       "      <th></th>\n",
       "      <th></th>\n",
       "      <th></th>\n",
       "      <th></th>\n",
       "      <th></th>\n",
       "      <th></th>\n",
       "      <th></th>\n",
       "      <th></th>\n",
       "      <th></th>\n",
       "      <th></th>\n",
       "      <th></th>\n",
       "      <th></th>\n",
       "      <th></th>\n",
       "    </tr>\n",
       "  </thead>\n",
       "  <tbody>\n",
       "    <tr>\n",
       "      <th>C2515</th>\n",
       "      <td>545</td>\n",
       "      <td>17.0</td>\n",
       "      <td>0.163127</td>\n",
       "      <td>0.0</td>\n",
       "      <td>3.0</td>\n",
       "      <td>624.0</td>\n",
       "      <td>205.0</td>\n",
       "      <td>77.857143</td>\n",
       "      <td>1.678714e+07</td>\n",
       "      <td>139557.142857</td>\n",
       "      <td>...</td>\n",
       "      <td>0.968807</td>\n",
       "      <td>3.0</td>\n",
       "      <td>1.144954</td>\n",
       "      <td>6.302619</td>\n",
       "      <td>6.437752</td>\n",
       "      <td>6.24</td>\n",
       "      <td>1.386294</td>\n",
       "      <td>4.367638</td>\n",
       "      <td>16.636124</td>\n",
       "      <td>11.846237</td>\n",
       "    </tr>\n",
       "    <tr>\n",
       "      <th>C1407</th>\n",
       "      <td>1216</td>\n",
       "      <td>13.0</td>\n",
       "      <td>0.140571</td>\n",
       "      <td>1.0</td>\n",
       "      <td>1.0</td>\n",
       "      <td>1285.0</td>\n",
       "      <td>1064.0</td>\n",
       "      <td>114.250000</td>\n",
       "      <td>2.598438e+07</td>\n",
       "      <td>165956.250000</td>\n",
       "      <td>...</td>\n",
       "      <td>0.989309</td>\n",
       "      <td>2.0</td>\n",
       "      <td>1.056743</td>\n",
       "      <td>7.104144</td>\n",
       "      <td>7.159292</td>\n",
       "      <td>12.85</td>\n",
       "      <td>1.098612</td>\n",
       "      <td>4.747104</td>\n",
       "      <td>17.073006</td>\n",
       "      <td>12.019486</td>\n",
       "    </tr>\n",
       "    <tr>\n",
       "      <th>C1470</th>\n",
       "      <td>696</td>\n",
       "      <td>14.0</td>\n",
       "      <td>0.176920</td>\n",
       "      <td>0.0</td>\n",
       "      <td>2.0</td>\n",
       "      <td>645.0</td>\n",
       "      <td>553.0</td>\n",
       "      <td>174.000000</td>\n",
       "      <td>1.772275e+07</td>\n",
       "      <td>120150.000000</td>\n",
       "      <td>...</td>\n",
       "      <td>0.979885</td>\n",
       "      <td>2.0</td>\n",
       "      <td>0.926724</td>\n",
       "      <td>6.546785</td>\n",
       "      <td>6.470800</td>\n",
       "      <td>6.45</td>\n",
       "      <td>1.098612</td>\n",
       "      <td>5.164786</td>\n",
       "      <td>16.690360</td>\n",
       "      <td>11.696505</td>\n",
       "    </tr>\n",
       "    <tr>\n",
       "      <th>C1898</th>\n",
       "      <td>566</td>\n",
       "      <td>9.0</td>\n",
       "      <td>0.176920</td>\n",
       "      <td>0.0</td>\n",
       "      <td>6.0</td>\n",
       "      <td>517.0</td>\n",
       "      <td>415.0</td>\n",
       "      <td>94.333333</td>\n",
       "      <td>1.742233e+07</td>\n",
       "      <td>119148.333333</td>\n",
       "      <td>...</td>\n",
       "      <td>0.984099</td>\n",
       "      <td>6.0</td>\n",
       "      <td>0.913428</td>\n",
       "      <td>6.340359</td>\n",
       "      <td>6.249975</td>\n",
       "      <td>5.17</td>\n",
       "      <td>1.945910</td>\n",
       "      <td>4.557380</td>\n",
       "      <td>16.673264</td>\n",
       "      <td>11.688133</td>\n",
       "    </tr>\n",
       "    <tr>\n",
       "      <th>C1244</th>\n",
       "      <td>1722</td>\n",
       "      <td>10.0</td>\n",
       "      <td>0.184072</td>\n",
       "      <td>0.0</td>\n",
       "      <td>10.0</td>\n",
       "      <td>1483.0</td>\n",
       "      <td>1804.0</td>\n",
       "      <td>142.818182</td>\n",
       "      <td>4.033873e+07</td>\n",
       "      <td>276856.363636</td>\n",
       "      <td>...</td>\n",
       "      <td>0.994193</td>\n",
       "      <td>10.0</td>\n",
       "      <td>0.861208</td>\n",
       "      <td>7.451822</td>\n",
       "      <td>7.302496</td>\n",
       "      <td>14.83</td>\n",
       "      <td>2.397895</td>\n",
       "      <td>4.968550</td>\n",
       "      <td>17.512823</td>\n",
       "      <td>12.531258</td>\n",
       "    </tr>\n",
       "  </tbody>\n",
       "</table>\n",
       "<p>5 rows × 82 columns</p>\n",
       "</div>"
      ],
      "text/plain": [
       "       총세대수   공가수      미성년자  도보 10분거리 내 지하철역 수(환승노선 수 반영)  도보 10분거리 내 버스정류장 수  \\\n",
       "단지코드                                                                            \n",
       "C2515   545  17.0  0.163127                           0.0                 3.0   \n",
       "C1407  1216  13.0  0.140571                           1.0                 1.0   \n",
       "C1470   696  14.0  0.176920                           0.0                 2.0   \n",
       "C1898   566   9.0  0.176920                           0.0                 6.0   \n",
       "C1244  1722  10.0  0.184072                           0.0                10.0   \n",
       "\n",
       "       단지내주차면수   등록차량수  전용면적별세대수 평균      임대보증금 평균         임대료 평균  ...  \\\n",
       "단지코드                                                              ...   \n",
       "C2515    624.0   205.0    77.857143  1.678714e+07  139557.142857  ...   \n",
       "C1407   1285.0  1064.0   114.250000  2.598438e+07  165956.250000  ...   \n",
       "C1470    645.0   553.0   174.000000  1.772275e+07  120150.000000  ...   \n",
       "C1898    517.0   415.0    94.333333  1.742233e+07  119148.333333  ...   \n",
       "C1244   1483.0  1804.0   142.818182  4.033873e+07  276856.363636  ...   \n",
       "\n",
       "           실거주율  대중교통현황  주차면수/총세대   총세대수log  단지내주차면수log  단지내주차면수/100  \\\n",
       "단지코드                                                                   \n",
       "C2515  0.968807     3.0  1.144954  6.302619    6.437752         6.24   \n",
       "C1407  0.989309     2.0  1.056743  7.104144    7.159292        12.85   \n",
       "C1470  0.979885     2.0  0.926724  6.546785    6.470800         6.45   \n",
       "C1898  0.984099     6.0  0.913428  6.340359    6.249975         5.17   \n",
       "C1244  0.994193    10.0  0.861208  7.451822    7.302496        14.83   \n",
       "\n",
       "       버스지하철log  전용면적별세대수 평균 log  임대보증금 평균 log  임대료 평균 log  \n",
       "단지코드                                                        \n",
       "C2515  1.386294         4.367638     16.636124   11.846237  \n",
       "C1407  1.098612         4.747104     17.073006   12.019486  \n",
       "C1470  1.098612         5.164786     16.690360   11.696505  \n",
       "C1898  1.945910         4.557380     16.673264   11.688133  \n",
       "C1244  2.397895         4.968550     17.512823   12.531258  \n",
       "\n",
       "[5 rows x 82 columns]"
      ]
     },
     "execution_count": 304,
     "metadata": {},
     "output_type": "execute_result"
    }
   ],
   "source": [
    "train_data.head()"
   ]
  },
  {
   "cell_type": "code",
   "execution_count": 305,
   "metadata": {
    "colab": {
     "base_uri": "https://localhost:8080/",
     "height": 559
    },
    "id": "mtQ9iUxZ93vG",
    "outputId": "eba89d33-64e2-4bec-b887-7cc31e077a79"
   },
   "outputs": [
    {
     "data": {
      "text/html": [
       "<div>\n",
       "<style scoped>\n",
       "    .dataframe tbody tr th:only-of-type {\n",
       "        vertical-align: middle;\n",
       "    }\n",
       "\n",
       "    .dataframe tbody tr th {\n",
       "        vertical-align: top;\n",
       "    }\n",
       "\n",
       "    .dataframe thead th {\n",
       "        text-align: right;\n",
       "    }\n",
       "</style>\n",
       "<table border=\"1\" class=\"dataframe\">\n",
       "  <thead>\n",
       "    <tr style=\"text-align: right;\">\n",
       "      <th></th>\n",
       "      <th>총세대수</th>\n",
       "      <th>공가수</th>\n",
       "      <th>미성년자</th>\n",
       "      <th>도보 10분거리 내 지하철역 수(환승노선 수 반영)</th>\n",
       "      <th>도보 10분거리 내 버스정류장 수</th>\n",
       "      <th>단지내주차면수</th>\n",
       "      <th>전용면적별세대수 평균</th>\n",
       "      <th>임대보증금 평균</th>\n",
       "      <th>임대료 평균</th>\n",
       "      <th>임대건물구분</th>\n",
       "      <th>...</th>\n",
       "      <th>실거주율</th>\n",
       "      <th>대중교통현황</th>\n",
       "      <th>주차면수/총세대</th>\n",
       "      <th>총세대수log</th>\n",
       "      <th>단지내주차면수log</th>\n",
       "      <th>단지내주차면수/100</th>\n",
       "      <th>버스지하철log</th>\n",
       "      <th>전용면적별세대수 평균 log</th>\n",
       "      <th>임대보증금 평균 log</th>\n",
       "      <th>임대료 평균 log</th>\n",
       "    </tr>\n",
       "    <tr>\n",
       "      <th>단지코드</th>\n",
       "      <th></th>\n",
       "      <th></th>\n",
       "      <th></th>\n",
       "      <th></th>\n",
       "      <th></th>\n",
       "      <th></th>\n",
       "      <th></th>\n",
       "      <th></th>\n",
       "      <th></th>\n",
       "      <th></th>\n",
       "      <th></th>\n",
       "      <th></th>\n",
       "      <th></th>\n",
       "      <th></th>\n",
       "      <th></th>\n",
       "      <th></th>\n",
       "      <th></th>\n",
       "      <th></th>\n",
       "      <th></th>\n",
       "      <th></th>\n",
       "      <th></th>\n",
       "    </tr>\n",
       "  </thead>\n",
       "  <tbody>\n",
       "    <tr>\n",
       "      <th>C1072</th>\n",
       "      <td>754</td>\n",
       "      <td>14.0</td>\n",
       "      <td>0.184072</td>\n",
       "      <td>0.0</td>\n",
       "      <td>2.0</td>\n",
       "      <td>683.0</td>\n",
       "      <td>94.250000</td>\n",
       "      <td>38120250.0</td>\n",
       "      <td>265843.750000</td>\n",
       "      <td>1</td>\n",
       "      <td>...</td>\n",
       "      <td>0.981432</td>\n",
       "      <td>2.0</td>\n",
       "      <td>0.905836</td>\n",
       "      <td>6.626718</td>\n",
       "      <td>6.527958</td>\n",
       "      <td>6.83</td>\n",
       "      <td>1.098612</td>\n",
       "      <td>4.556505</td>\n",
       "      <td>17.456256</td>\n",
       "      <td>12.490668</td>\n",
       "    </tr>\n",
       "    <tr>\n",
       "      <th>C1128</th>\n",
       "      <td>1354</td>\n",
       "      <td>9.0</td>\n",
       "      <td>0.184072</td>\n",
       "      <td>0.0</td>\n",
       "      <td>3.0</td>\n",
       "      <td>1216.0</td>\n",
       "      <td>150.444444</td>\n",
       "      <td>34125000.0</td>\n",
       "      <td>245516.666667</td>\n",
       "      <td>1</td>\n",
       "      <td>...</td>\n",
       "      <td>0.993353</td>\n",
       "      <td>3.0</td>\n",
       "      <td>0.898080</td>\n",
       "      <td>7.211557</td>\n",
       "      <td>7.104144</td>\n",
       "      <td>12.16</td>\n",
       "      <td>1.386294</td>\n",
       "      <td>5.020219</td>\n",
       "      <td>17.345541</td>\n",
       "      <td>12.411124</td>\n",
       "    </tr>\n",
       "    <tr>\n",
       "      <th>C1456</th>\n",
       "      <td>619</td>\n",
       "      <td>18.0</td>\n",
       "      <td>0.113143</td>\n",
       "      <td>0.0</td>\n",
       "      <td>16.0</td>\n",
       "      <td>547.0</td>\n",
       "      <td>66.625000</td>\n",
       "      <td>33704875.0</td>\n",
       "      <td>222290.000000</td>\n",
       "      <td>1</td>\n",
       "      <td>...</td>\n",
       "      <td>0.970921</td>\n",
       "      <td>16.0</td>\n",
       "      <td>0.883683</td>\n",
       "      <td>6.429719</td>\n",
       "      <td>6.306275</td>\n",
       "      <td>5.47</td>\n",
       "      <td>2.833213</td>\n",
       "      <td>4.213978</td>\n",
       "      <td>17.333153</td>\n",
       "      <td>12.311743</td>\n",
       "    </tr>\n",
       "    <tr>\n",
       "      <th>C1840</th>\n",
       "      <td>593</td>\n",
       "      <td>7.0</td>\n",
       "      <td>0.176920</td>\n",
       "      <td>0.0</td>\n",
       "      <td>3.0</td>\n",
       "      <td>543.0</td>\n",
       "      <td>148.250000</td>\n",
       "      <td>18924250.0</td>\n",
       "      <td>123150.000000</td>\n",
       "      <td>1</td>\n",
       "      <td>...</td>\n",
       "      <td>0.988196</td>\n",
       "      <td>3.0</td>\n",
       "      <td>0.915683</td>\n",
       "      <td>6.386879</td>\n",
       "      <td>6.298949</td>\n",
       "      <td>5.43</td>\n",
       "      <td>1.386294</td>\n",
       "      <td>5.005623</td>\n",
       "      <td>16.755955</td>\n",
       "      <td>11.721167</td>\n",
       "    </tr>\n",
       "    <tr>\n",
       "      <th>C1332</th>\n",
       "      <td>1297</td>\n",
       "      <td>11.0</td>\n",
       "      <td>0.184072</td>\n",
       "      <td>0.0</td>\n",
       "      <td>2.0</td>\n",
       "      <td>1112.0</td>\n",
       "      <td>162.125000</td>\n",
       "      <td>41334500.0</td>\n",
       "      <td>292880.000000</td>\n",
       "      <td>1</td>\n",
       "      <td>...</td>\n",
       "      <td>0.991519</td>\n",
       "      <td>2.0</td>\n",
       "      <td>0.857363</td>\n",
       "      <td>7.168580</td>\n",
       "      <td>7.014814</td>\n",
       "      <td>11.12</td>\n",
       "      <td>1.098612</td>\n",
       "      <td>5.094517</td>\n",
       "      <td>17.537208</td>\n",
       "      <td>12.587522</td>\n",
       "    </tr>\n",
       "  </tbody>\n",
       "</table>\n",
       "<p>5 rows × 81 columns</p>\n",
       "</div>"
      ],
      "text/plain": [
       "       총세대수   공가수      미성년자  도보 10분거리 내 지하철역 수(환승노선 수 반영)  도보 10분거리 내 버스정류장 수  \\\n",
       "단지코드                                                                            \n",
       "C1072   754  14.0  0.184072                           0.0                 2.0   \n",
       "C1128  1354   9.0  0.184072                           0.0                 3.0   \n",
       "C1456   619  18.0  0.113143                           0.0                16.0   \n",
       "C1840   593   7.0  0.176920                           0.0                 3.0   \n",
       "C1332  1297  11.0  0.184072                           0.0                 2.0   \n",
       "\n",
       "       단지내주차면수  전용면적별세대수 평균    임대보증금 평균         임대료 평균  임대건물구분  ...      실거주율  \\\n",
       "단지코드                                                            ...             \n",
       "C1072    683.0    94.250000  38120250.0  265843.750000       1  ...  0.981432   \n",
       "C1128   1216.0   150.444444  34125000.0  245516.666667       1  ...  0.993353   \n",
       "C1456    547.0    66.625000  33704875.0  222290.000000       1  ...  0.970921   \n",
       "C1840    543.0   148.250000  18924250.0  123150.000000       1  ...  0.988196   \n",
       "C1332   1112.0   162.125000  41334500.0  292880.000000       1  ...  0.991519   \n",
       "\n",
       "       대중교통현황  주차면수/총세대   총세대수log  단지내주차면수log  단지내주차면수/100  버스지하철log  \\\n",
       "단지코드                                                                   \n",
       "C1072     2.0  0.905836  6.626718    6.527958         6.83  1.098612   \n",
       "C1128     3.0  0.898080  7.211557    7.104144        12.16  1.386294   \n",
       "C1456    16.0  0.883683  6.429719    6.306275         5.47  2.833213   \n",
       "C1840     3.0  0.915683  6.386879    6.298949         5.43  1.386294   \n",
       "C1332     2.0  0.857363  7.168580    7.014814        11.12  1.098612   \n",
       "\n",
       "       전용면적별세대수 평균 log  임대보증금 평균 log  임대료 평균 log  \n",
       "단지코드                                              \n",
       "C1072         4.556505     17.456256   12.490668  \n",
       "C1128         5.020219     17.345541   12.411124  \n",
       "C1456         4.213978     17.333153   12.311743  \n",
       "C1840         5.005623     16.755955   11.721167  \n",
       "C1332         5.094517     17.537208   12.587522  \n",
       "\n",
       "[5 rows x 81 columns]"
      ]
     },
     "execution_count": 305,
     "metadata": {},
     "output_type": "execute_result"
    }
   ],
   "source": [
    "test_data.head()"
   ]
  },
  {
   "cell_type": "code",
   "execution_count": 306,
   "metadata": {},
   "outputs": [],
   "source": [
    "from catboost import CatBoostRegressor\n",
    "model = CatBoostRegressor(\n",
    "#          cat_features=cat_features,\n",
    "         loss_function='MAE',\n",
    "         n_estimators=500, \n",
    "         learning_rate=0.05, \n",
    "         random_state=42\n",
    "    )\n",
    "    \n",
    "# model.fit(x_train.drop(columns=[target_col]), x_train[target_col], verbose=100)"
   ]
  },
  {
   "cell_type": "code",
   "execution_count": 307,
   "metadata": {},
   "outputs": [
    {
     "name": "stdout",
     "output_type": "stream",
     "text": [
      "0:\tlearn: 277.6080593\ttotal: 6.25ms\tremaining: 3.12s\n",
      "50:\tlearn: 114.1501864\ttotal: 99.7ms\tremaining: 877ms\n",
      "100:\tlearn: 85.9051153\ttotal: 185ms\tremaining: 730ms\n",
      "150:\tlearn: 69.2755159\ttotal: 271ms\tremaining: 625ms\n",
      "200:\tlearn: 57.6448344\ttotal: 348ms\tremaining: 517ms\n",
      "250:\tlearn: 49.4635670\ttotal: 421ms\tremaining: 417ms\n",
      "300:\tlearn: 44.7392960\ttotal: 506ms\tremaining: 334ms\n",
      "350:\tlearn: 40.3962955\ttotal: 595ms\tremaining: 252ms\n",
      "400:\tlearn: 36.2998348\ttotal: 667ms\tremaining: 165ms\n",
      "450:\tlearn: 33.1166752\ttotal: 747ms\tremaining: 81.1ms\n",
      "499:\tlearn: 30.2570893\ttotal: 816ms\tremaining: 0us\n"
     ]
    },
    {
     "data": {
      "text/plain": [
       "<catboost.core.CatBoostRegressor at 0x7fb382360730>"
      ]
     },
     "execution_count": 307,
     "metadata": {},
     "output_type": "execute_result"
    }
   ],
   "source": [
    "model.fit(train_data.drop(columns = '등록차량수'), train_agg['등록차량수'], verbose = 50)"
   ]
  },
  {
   "cell_type": "code",
   "execution_count": 308,
   "metadata": {},
   "outputs": [
    {
     "data": {
      "text/plain": [
       "{'등록차량수'}"
      ]
     },
     "execution_count": 308,
     "metadata": {},
     "output_type": "execute_result"
    }
   ],
   "source": [
    "set(train_data.columns) - set(test_data.columns)"
   ]
  },
  {
   "cell_type": "code",
   "execution_count": 321,
   "metadata": {},
   "outputs": [],
   "source": [
    "train_pred = model.predict(train_data.drop(columns = '등록차량수'))"
   ]
  },
  {
   "cell_type": "code",
   "execution_count": 322,
   "metadata": {},
   "outputs": [
    {
     "name": "stdout",
     "output_type": "stream",
     "text": [
      "30.257090301647295\n"
     ]
    }
   ],
   "source": [
    "from sklearn.metrics import mean_absolute_error\n",
    "print(mean_absolute_error(train_agg['등록차량수'], train_pred))"
   ]
  },
  {
   "cell_type": "code",
   "execution_count": 311,
   "metadata": {},
   "outputs": [],
   "source": [
    "y_predict = model.predict(test_data)"
   ]
  },
  {
   "cell_type": "code",
   "execution_count": 340,
   "metadata": {},
   "outputs": [
    {
     "data": {
      "text/plain": [
       "XGBRegressor(base_score=0.5, booster='gbtree', callbacks=None,\n",
       "             colsample_bylevel=1, colsample_bynode=1, colsample_bytree=1,\n",
       "             early_stopping_rounds=None, enable_categorical=False,\n",
       "             eval_metric=None, gamma=0, gpu_id=-1, grow_policy='depthwise',\n",
       "             importance_type=None, interaction_constraints='',\n",
       "             learning_rate=0.05, max_bin=256, max_cat_to_onehot=4,\n",
       "             max_delta_step=0, max_depth=6, max_leaves=0, min_child_weight=1,\n",
       "             missing=nan, monotone_constraints='()', n_estimators=500, n_jobs=0,\n",
       "             num_parallel_tree=1, predictor='auto', random_state=42,\n",
       "             reg_alpha=0, reg_lambda=1, ...)"
      ]
     },
     "execution_count": 340,
     "metadata": {},
     "output_type": "execute_result"
    }
   ],
   "source": [
    "from xgboost import XGBRegressor\n",
    "model_xgb = XGBRegressor(\n",
    "#          loss_function='MAE',\n",
    "         n_estimators=500, \n",
    "         learning_rate=0.05, \n",
    "         random_state=42\n",
    "    )\n",
    "model_xgb.fit(train_data.drop(columns = '등록차량수'), train_agg['등록차량수'], verbose = 50)"
   ]
  },
  {
   "cell_type": "code",
   "execution_count": 341,
   "metadata": {},
   "outputs": [
    {
     "name": "stdout",
     "output_type": "stream",
     "text": [
      "1.933945852803343\n"
     ]
    }
   ],
   "source": [
    "train_pred = model_xgb.predict(train_data.drop(columns = '등록차량수'))\n",
    "\n",
    "from sklearn.metrics import mean_absolute_error\n",
    "print(mean_absolute_error(train_agg['등록차량수'], train_pred))\n",
    "\n",
    "y_predict = model_xgb.predict(test_data)"
   ]
  },
  {
   "cell_type": "code",
   "execution_count": 356,
   "metadata": {},
   "outputs": [
    {
     "data": {
      "image/png": "[encoded data removed]",
      "text/plain": [
       "<Figure size 640x480 with 1 Axes>"
      ]
     },
     "metadata": {},
     "output_type": "display_data"
    }
   ],
   "source": [
    "import xgboost\n",
    "xgboost.plot_importance(model_xgb, height = 0.9);"
   ]
  },
  {
   "cell_type": "code",
   "execution_count": 358,
   "metadata": {},
   "outputs": [
    {
     "data": {
      "text/plain": [
       "LGBMRegressor(learning_rate=0.05, n_estimators=500, random_state=42)"
      ]
     },
     "execution_count": 358,
     "metadata": {},
     "output_type": "execute_result"
    }
   ],
   "source": [
    "import lightgbm\n",
    "from lightgbm import LGBMRegressor\n",
    "model_lgbm = LGBMRegressor(\n",
    "                 n_estimators=500, \n",
    "                 learning_rate=0.05, \n",
    "                 random_state=42\n",
    "                )\n",
    "model_lgbm.fit(train_data.drop(columns = '등록차량수'), train_agg['등록차량수'], verbose = 50)"
   ]
  },
  {
   "cell_type": "code",
   "execution_count": 359,
   "metadata": {},
   "outputs": [
    {
     "name": "stdout",
     "output_type": "stream",
     "text": [
      "19.466754689445093\n"
     ]
    }
   ],
   "source": [
    "train_pred = model_lgbm.predict(train_data.drop(columns = '등록차량수'))\n",
    "\n",
    "from sklearn.metrics import mean_absolute_error\n",
    "print(mean_absolute_error(train_agg['등록차량수'], train_pred))\n",
    "\n",
    "y_predict = model_lgbm.predict(test_data)"
   ]
  },
  {
   "cell_type": "markdown",
   "metadata": {
    "id": "IjI8T_s_6VVm"
   },
   "source": [
    "## Pycaret으로 모델 생성 \n",
    "* 해당 대회가 워낙 데이터도 이상하고 이상치들이 많이 존재해 모델을 너무 잘 만들었다간 private 점수가 많이 안 좋을 것으로 예상했습니다. \n",
    "* 애초부터 model에 대해 신경을 안 쓰기로 마음 먹고 Pycaret에 집어넣고 가장 성능이 잘 나오는 5개로 블랜딩해서 최종 모델을 생성했습니다. \n",
    "* 실제로 모델 튜닝을 더 진행하고 파라미터 값 등을 더 좋게 변경해줬을 때 public score가 더 떨어지거나 cv 값이 더 떨어졌습니다. 저만 그랬던 것인지는 잘 모르겠습니다.. "
   ]
  },
  {
   "cell_type": "code",
   "execution_count": 60,
   "metadata": {
    "colab": {
     "base_uri": "https://localhost:8080/",
     "height": 1000,
     "referenced_widgets": [
      "f7380c673ad34b2ab4340bbae0dc2a3f",
      "ee2b18c3254c4097aac60f6eb7b36ce5",
      "fabb7c7215cf4198af60f376cabf77c9"
     ]
    },
    "id": "VntDazn5Ewi5",
    "outputId": "8c9a8690-73b3-4ae0-bfb2-11c083d6f844"
   },
   "outputs": [],
   "source": [
    "# reg = setup(data=train_data,\n",
    "#             target='주차면수대비등록확률',\n",
    "#             session_id = 201,\n",
    "#             numeric_imputation = 'mean',\n",
    "#             fold_shuffle = True,\n",
    "#             numeric_features=list(train_data.drop(columns = ['주차면수대비등록확률']).columns),\n",
    "#             ignore_low_variance = True,\n",
    "#             combine_rare_levels = True, rare_level_threshold = 0.05,\n",
    "#             remove_multicollinearity = True, multicollinearity_threshold = 0.90,\n",
    "#             normalize = True,\n",
    "#             silent= True)"
   ]
  },
  {
   "cell_type": "code",
   "execution_count": 315,
   "metadata": {
    "colab": {
     "base_uri": "https://localhost:8080/",
     "height": 607,
     "referenced_widgets": [
      "2003b947a9b94a4f9ef125aab5f3c4ea",
      "bae8cb7ec5de4add9f9de1e700897a36",
      "fc706b3693d442e18bc110e750efc560"
     ]
    },
    "id": "Fn4Hoz-7Ewel",
    "outputId": "ff763e08-db8e-43f4-c94f-44a253f8d923"
   },
   "outputs": [],
   "source": [
    "# best_5_l = compare_models(sort='MAE', n_select=5)"
   ]
  },
  {
   "cell_type": "code",
   "execution_count": 119,
   "metadata": {
    "colab": {
     "base_uri": "https://localhost:8080/"
    },
    "id": "RaencZKY_rvJ",
    "outputId": "ad5e2b3b-559f-4646-debf-b7ba7ce6fbdb"
   },
   "outputs": [
    {
     "data": {
      "text/plain": [
       "[RandomForestRegressor(bootstrap=True, ccp_alpha=0.0, criterion='mse',\n",
       "                       max_depth=None, max_features='auto', max_leaf_nodes=None,\n",
       "                       max_samples=None, min_impurity_decrease=0.0,\n",
       "                       min_impurity_split=None, min_samples_leaf=1,\n",
       "                       min_samples_split=2, min_weight_fraction_leaf=0.0,\n",
       "                       n_estimators=100, n_jobs=-1, oob_score=False,\n",
       "                       random_state=201, verbose=0, warm_start=False),\n",
       " <catboost.core.CatBoostRegressor at 0x7f6776f910d0>,\n",
       " BayesianRidge(alpha_1=1e-06, alpha_2=1e-06, alpha_init=None,\n",
       "               compute_score=False, copy_X=True, fit_intercept=True,\n",
       "               lambda_1=1e-06, lambda_2=1e-06, lambda_init=None, n_iter=300,\n",
       "               normalize=False, tol=0.001, verbose=False),\n",
       " LGBMRegressor(boosting_type='gbdt', class_weight=None, colsample_bytree=1.0,\n",
       "               importance_type='split', learning_rate=0.1, max_depth=-1,\n",
       "               min_child_samples=20, min_child_weight=0.001, min_split_gain=0.0,\n",
       "               n_estimators=100, n_jobs=-1, num_leaves=31, objective=None,\n",
       "               random_state=201, reg_alpha=0.0, reg_lambda=0.0, silent=True,\n",
       "               subsample=1.0, subsample_for_bin=200000, subsample_freq=0),\n",
       " GradientBoostingRegressor(alpha=0.9, ccp_alpha=0.0, criterion='friedman_mse',\n",
       "                           init=None, learning_rate=0.1, loss='ls', max_depth=3,\n",
       "                           max_features=None, max_leaf_nodes=None,\n",
       "                           min_impurity_decrease=0.0, min_impurity_split=None,\n",
       "                           min_samples_leaf=1, min_samples_split=2,\n",
       "                           min_weight_fraction_leaf=0.0, n_estimators=100,\n",
       "                           n_iter_no_change=None, presort='deprecated',\n",
       "                           random_state=201, subsample=1.0, tol=0.0001,\n",
       "                           validation_fraction=0.1, verbose=0, warm_start=False)]"
      ]
     },
     "execution_count": 119,
     "metadata": {
      "tags": []
     },
     "output_type": "execute_result"
    }
   ],
   "source": [
    "# best_5_l ## 각 모델 튜닝하려고 추출했던 것이지만 과대적합 관련해서 default 값으로 진행 "
   ]
  },
  {
   "cell_type": "code",
   "execution_count": 120,
   "metadata": {
    "colab": {
     "base_uri": "https://localhost:8080/",
     "height": 329,
     "referenced_widgets": [
      "3e538501fa46419a98ee1fc066db68d6",
      "8886061e2a7c49b89af712007e555ceb",
      "d6d1bd6ea4384542b3d22a769200bb11"
     ]
    },
    "id": "yHZo3yROEysd",
    "outputId": "9605e2c9-2f34-4833-e200-b65f3355a418"
   },
   "outputs": [
    {
     "data": {
      "text/html": [
       "<div>\n",
       "<style scoped>\n",
       "    .dataframe tbody tr th:only-of-type {\n",
       "        vertical-align: middle;\n",
       "    }\n",
       "\n",
       "    .dataframe tbody tr th {\n",
       "        vertical-align: top;\n",
       "    }\n",
       "\n",
       "    .dataframe thead th {\n",
       "        text-align: right;\n",
       "    }\n",
       "</style>\n",
       "<table border=\"1\" class=\"dataframe\">\n",
       "  <thead>\n",
       "    <tr style=\"text-align: right;\">\n",
       "      <th></th>\n",
       "      <th>MAE</th>\n",
       "      <th>MSE</th>\n",
       "      <th>RMSE</th>\n",
       "      <th>R2</th>\n",
       "      <th>RMSLE</th>\n",
       "      <th>MAPE</th>\n",
       "    </tr>\n",
       "  </thead>\n",
       "  <tbody>\n",
       "    <tr>\n",
       "      <th>0</th>\n",
       "      <td>0.1819</td>\n",
       "      <td>0.0901</td>\n",
       "      <td>0.3002</td>\n",
       "      <td>0.1841</td>\n",
       "      <td>0.1353</td>\n",
       "      <td>0.1908</td>\n",
       "    </tr>\n",
       "    <tr>\n",
       "      <th>1</th>\n",
       "      <td>0.2162</td>\n",
       "      <td>0.0808</td>\n",
       "      <td>0.2842</td>\n",
       "      <td>0.2599</td>\n",
       "      <td>0.1549</td>\n",
       "      <td>0.3462</td>\n",
       "    </tr>\n",
       "    <tr>\n",
       "      <th>2</th>\n",
       "      <td>0.1704</td>\n",
       "      <td>0.0505</td>\n",
       "      <td>0.2247</td>\n",
       "      <td>0.2862</td>\n",
       "      <td>0.1147</td>\n",
       "      <td>0.2010</td>\n",
       "    </tr>\n",
       "    <tr>\n",
       "      <th>3</th>\n",
       "      <td>0.2037</td>\n",
       "      <td>0.0712</td>\n",
       "      <td>0.2668</td>\n",
       "      <td>0.2749</td>\n",
       "      <td>0.1437</td>\n",
       "      <td>0.3007</td>\n",
       "    </tr>\n",
       "    <tr>\n",
       "      <th>4</th>\n",
       "      <td>0.2060</td>\n",
       "      <td>0.0705</td>\n",
       "      <td>0.2656</td>\n",
       "      <td>0.3145</td>\n",
       "      <td>0.1358</td>\n",
       "      <td>0.2479</td>\n",
       "    </tr>\n",
       "    <tr>\n",
       "      <th>Mean</th>\n",
       "      <td>0.1956</td>\n",
       "      <td>0.0726</td>\n",
       "      <td>0.2683</td>\n",
       "      <td>0.2639</td>\n",
       "      <td>0.1369</td>\n",
       "      <td>0.2573</td>\n",
       "    </tr>\n",
       "    <tr>\n",
       "      <th>SD</th>\n",
       "      <td>0.0169</td>\n",
       "      <td>0.0132</td>\n",
       "      <td>0.0252</td>\n",
       "      <td>0.0437</td>\n",
       "      <td>0.0132</td>\n",
       "      <td>0.0591</td>\n",
       "    </tr>\n",
       "  </tbody>\n",
       "</table>\n",
       "</div>"
      ],
      "text/plain": [
       "         MAE     MSE    RMSE      R2   RMSLE    MAPE\n",
       "0     0.1819  0.0901  0.3002  0.1841  0.1353  0.1908\n",
       "1     0.2162  0.0808  0.2842  0.2599  0.1549  0.3462\n",
       "2     0.1704  0.0505  0.2247  0.2862  0.1147  0.2010\n",
       "3     0.2037  0.0712  0.2668  0.2749  0.1437  0.3007\n",
       "4     0.2060  0.0705  0.2656  0.3145  0.1358  0.2479\n",
       "Mean  0.1956  0.0726  0.2683  0.2639  0.1369  0.2573\n",
       "SD    0.0169  0.0132  0.0252  0.0437  0.0132  0.0591"
      ]
     },
     "metadata": {
      "tags": []
     },
     "output_type": "display_data"
    },
    {
     "data": {
      "text/html": [
       "<div>\n",
       "<style scoped>\n",
       "    .dataframe tbody tr th:only-of-type {\n",
       "        vertical-align: middle;\n",
       "    }\n",
       "\n",
       "    .dataframe tbody tr th {\n",
       "        vertical-align: top;\n",
       "    }\n",
       "\n",
       "    .dataframe thead th {\n",
       "        text-align: right;\n",
       "    }\n",
       "</style>\n",
       "<table border=\"1\" class=\"dataframe\">\n",
       "  <thead>\n",
       "    <tr style=\"text-align: right;\">\n",
       "      <th></th>\n",
       "      <th>Model</th>\n",
       "      <th>MAE</th>\n",
       "      <th>MSE</th>\n",
       "      <th>RMSE</th>\n",
       "      <th>R2</th>\n",
       "      <th>RMSLE</th>\n",
       "      <th>MAPE</th>\n",
       "    </tr>\n",
       "  </thead>\n",
       "  <tbody>\n",
       "    <tr>\n",
       "      <th>0</th>\n",
       "      <td>Voting Regressor</td>\n",
       "      <td>0.2075</td>\n",
       "      <td>0.0819</td>\n",
       "      <td>0.2862</td>\n",
       "      <td>0.2505</td>\n",
       "      <td>0.1575</td>\n",
       "      <td>0.3819</td>\n",
       "    </tr>\n",
       "  </tbody>\n",
       "</table>\n",
       "</div>"
      ],
      "text/plain": [
       "              Model     MAE     MSE    RMSE      R2   RMSLE    MAPE\n",
       "0  Voting Regressor  0.2075  0.0819  0.2862  0.2505  0.1575  0.3819"
      ]
     },
     "metadata": {
      "tags": []
     },
     "output_type": "display_data"
    }
   ],
   "source": [
    "# blended_l = blend_models(estimator_list= best_5_l, fold=5, optimize='MAE')\n",
    "# pred_holdout = predict_model(blended_l)\n",
    "# final_model_l = finalize_model(blended_l)\n",
    "# pred_esb_l = predict_model(final_model_l, test_data) "
   ]
  },
  {
   "cell_type": "markdown",
   "metadata": {
    "id": "wwvCKwGS8KPR"
   },
   "source": [
    "## 모델 시각화"
   ]
  },
  {
   "cell_type": "code",
   "execution_count": 121,
   "metadata": {
    "colab": {
     "base_uri": "https://localhost:8080/",
     "height": 297,
     "referenced_widgets": [
      "3609d78dc5ed46fd9f5c37af0fb1daa0",
      "01f1372e5d0940cc9d8373f47f253bca",
      "72f203a414344d0a8f59315d9d15e275"
     ]
    },
    "id": "snS9vzFdXzAl",
    "outputId": "3b73bfa2-7cea-4d9b-acd4-3e9799ea707f"
   },
   "outputs": [
    {
     "data": {
      "image/png": "[encoded data removed]",
      "text/plain": [
       "<Figure size 432x288 with 2 Axes>"
      ]
     },
     "metadata": {
      "needs_background": "light",
      "tags": []
     },
     "output_type": "display_data"
    }
   ],
   "source": [
    "# plot_model(final_model_l, plot='residuals')"
   ]
  },
  {
   "cell_type": "code",
   "execution_count": 122,
   "metadata": {
    "id": "kxuVSwNuX_Ke"
   },
   "outputs": [],
   "source": [
    "# plot_model(final_model_l, plot='learning')"
   ]
  },
  {
   "cell_type": "code",
   "execution_count": 123,
   "metadata": {
    "colab": {
     "base_uri": "https://localhost:8080/",
     "height": 296,
     "referenced_widgets": [
      "4d6df8fd2c884a4984dfc598b9c467f9",
      "c205165997714cceb3266acbdefb38b9",
      "9e01e44b477d4ef695f73c965b91b070"
     ]
    },
    "id": "8uaNLHqqamwN",
    "outputId": "0c948b61-3b8e-4e9a-df64-deab8fc9cd49"
   },
   "outputs": [
    {
     "data": {
      "image/png": "[encoded data removed]",
      "text/plain": [
       "<Figure size 432x288 with 1 Axes>"
      ]
     },
     "metadata": {
      "needs_background": "light",
      "tags": []
     },
     "output_type": "display_data"
    }
   ],
   "source": [
    "# plot_model(final_model_l, plot='cooks') ## 심한 아웃 라이어들이 존재하는 것을 볼 수 있습니다.."
   ]
  },
  {
   "cell_type": "code",
   "execution_count": 124,
   "metadata": {
    "colab": {
     "base_uri": "https://localhost:8080/",
     "height": 421,
     "referenced_widgets": [
      "fb825db1a4d0492e9f0c625fb7e17d1e",
      "4dff0cf7f7f1444d91082353b571df48",
      "be25d42600624c0e8fdb4ef833a4564d"
     ]
    },
    "id": "sF9DDfgCaUg7",
    "outputId": "c2162260-c522-4a6b-d957-85cb0e160940"
   },
   "outputs": [
    {
     "data": {
      "text/html": [
       "<div>\n",
       "<style scoped>\n",
       "    .dataframe tbody tr th:only-of-type {\n",
       "        vertical-align: middle;\n",
       "    }\n",
       "\n",
       "    .dataframe tbody tr th {\n",
       "        vertical-align: top;\n",
       "    }\n",
       "\n",
       "    .dataframe thead th {\n",
       "        text-align: right;\n",
       "    }\n",
       "</style>\n",
       "<table border=\"1\" class=\"dataframe\">\n",
       "  <thead>\n",
       "    <tr style=\"text-align: right;\">\n",
       "      <th></th>\n",
       "      <th>MAE</th>\n",
       "      <th>MSE</th>\n",
       "      <th>RMSE</th>\n",
       "      <th>R2</th>\n",
       "      <th>RMSLE</th>\n",
       "      <th>MAPE</th>\n",
       "    </tr>\n",
       "  </thead>\n",
       "  <tbody>\n",
       "    <tr>\n",
       "      <th>0</th>\n",
       "      <td>0.1888</td>\n",
       "      <td>0.0577</td>\n",
       "      <td>0.2402</td>\n",
       "      <td>0.3248</td>\n",
       "      <td>0.1269</td>\n",
       "      <td>0.2528</td>\n",
       "    </tr>\n",
       "    <tr>\n",
       "      <th>1</th>\n",
       "      <td>0.1871</td>\n",
       "      <td>0.1375</td>\n",
       "      <td>0.3709</td>\n",
       "      <td>-0.0827</td>\n",
       "      <td>0.1568</td>\n",
       "      <td>0.1522</td>\n",
       "    </tr>\n",
       "    <tr>\n",
       "      <th>2</th>\n",
       "      <td>0.1994</td>\n",
       "      <td>0.0634</td>\n",
       "      <td>0.2518</td>\n",
       "      <td>0.3384</td>\n",
       "      <td>0.1316</td>\n",
       "      <td>0.2618</td>\n",
       "    </tr>\n",
       "    <tr>\n",
       "      <th>3</th>\n",
       "      <td>0.2322</td>\n",
       "      <td>0.0933</td>\n",
       "      <td>0.3054</td>\n",
       "      <td>0.2266</td>\n",
       "      <td>0.1710</td>\n",
       "      <td>0.4205</td>\n",
       "    </tr>\n",
       "    <tr>\n",
       "      <th>4</th>\n",
       "      <td>0.1543</td>\n",
       "      <td>0.0371</td>\n",
       "      <td>0.1926</td>\n",
       "      <td>0.4983</td>\n",
       "      <td>0.1051</td>\n",
       "      <td>0.2118</td>\n",
       "    </tr>\n",
       "    <tr>\n",
       "      <th>5</th>\n",
       "      <td>0.2024</td>\n",
       "      <td>0.0745</td>\n",
       "      <td>0.2730</td>\n",
       "      <td>-0.1471</td>\n",
       "      <td>0.1362</td>\n",
       "      <td>0.2142</td>\n",
       "    </tr>\n",
       "    <tr>\n",
       "      <th>6</th>\n",
       "      <td>0.1910</td>\n",
       "      <td>0.0603</td>\n",
       "      <td>0.2455</td>\n",
       "      <td>0.4116</td>\n",
       "      <td>0.1347</td>\n",
       "      <td>0.2923</td>\n",
       "    </tr>\n",
       "    <tr>\n",
       "      <th>7</th>\n",
       "      <td>0.2013</td>\n",
       "      <td>0.0756</td>\n",
       "      <td>0.2749</td>\n",
       "      <td>0.1881</td>\n",
       "      <td>0.1479</td>\n",
       "      <td>0.3013</td>\n",
       "    </tr>\n",
       "    <tr>\n",
       "      <th>8</th>\n",
       "      <td>0.2033</td>\n",
       "      <td>0.0605</td>\n",
       "      <td>0.2459</td>\n",
       "      <td>0.3254</td>\n",
       "      <td>0.1257</td>\n",
       "      <td>0.2310</td>\n",
       "    </tr>\n",
       "    <tr>\n",
       "      <th>9</th>\n",
       "      <td>0.2254</td>\n",
       "      <td>0.0936</td>\n",
       "      <td>0.3059</td>\n",
       "      <td>0.2113</td>\n",
       "      <td>0.1550</td>\n",
       "      <td>0.2904</td>\n",
       "    </tr>\n",
       "    <tr>\n",
       "      <th>Mean</th>\n",
       "      <td>0.1985</td>\n",
       "      <td>0.0753</td>\n",
       "      <td>0.2706</td>\n",
       "      <td>0.2295</td>\n",
       "      <td>0.1391</td>\n",
       "      <td>0.2628</td>\n",
       "    </tr>\n",
       "    <tr>\n",
       "      <th>SD</th>\n",
       "      <td>0.0204</td>\n",
       "      <td>0.0262</td>\n",
       "      <td>0.0460</td>\n",
       "      <td>0.1941</td>\n",
       "      <td>0.0179</td>\n",
       "      <td>0.0680</td>\n",
       "    </tr>\n",
       "  </tbody>\n",
       "</table>\n",
       "</div>"
      ],
      "text/plain": [
       "         MAE     MSE    RMSE      R2   RMSLE    MAPE\n",
       "0     0.1888  0.0577  0.2402  0.3248  0.1269  0.2528\n",
       "1     0.1871  0.1375  0.3709 -0.0827  0.1568  0.1522\n",
       "2     0.1994  0.0634  0.2518  0.3384  0.1316  0.2618\n",
       "3     0.2322  0.0933  0.3054  0.2266  0.1710  0.4205\n",
       "4     0.1543  0.0371  0.1926  0.4983  0.1051  0.2118\n",
       "5     0.2024  0.0745  0.2730 -0.1471  0.1362  0.2142\n",
       "6     0.1910  0.0603  0.2455  0.4116  0.1347  0.2923\n",
       "7     0.2013  0.0756  0.2749  0.1881  0.1479  0.3013\n",
       "8     0.2033  0.0605  0.2459  0.3254  0.1257  0.2310\n",
       "9     0.2254  0.0936  0.3059  0.2113  0.1550  0.2904\n",
       "Mean  0.1985  0.0753  0.2706  0.2295  0.1391  0.2628\n",
       "SD    0.0204  0.0262  0.0460  0.1941  0.0179  0.0680"
      ]
     },
     "metadata": {
      "tags": []
     },
     "output_type": "display_data"
    }
   ],
   "source": [
    "# rf_model = create_model('rf')"
   ]
  },
  {
   "cell_type": "code",
   "execution_count": 125,
   "metadata": {
    "colab": {
     "base_uri": "https://localhost:8080/",
     "height": 481,
     "referenced_widgets": [
      "111e8c48524442c59b7f4c0fb0397a49",
      "8bdd4b1bed204a90b50152ee320b9c95",
      "aa3adccfc3b449ccb5de0310b42aa176"
     ]
    },
    "id": "nIChxcHaZPOb",
    "outputId": "79d0fc51-bf15-4396-97f0-2f49871310fc"
   },
   "outputs": [
    {
     "data": {
      "image/png": "[encoded data removed]",
      "text/plain": [
       "<Figure size 800x500 with 1 Axes>"
      ]
     },
     "metadata": {
      "needs_background": "light",
      "tags": []
     },
     "output_type": "display_data"
    }
   ],
   "source": [
    "# plot_model(rf_model, plot='feature')"
   ]
  },
  {
   "cell_type": "code",
   "execution_count": 126,
   "metadata": {
    "id": "SznLhkPNaj_u"
   },
   "outputs": [],
   "source": [
    "# plot_model(huber_model, plot='rfe')"
   ]
  },
  {
   "cell_type": "code",
   "execution_count": 342,
   "metadata": {
    "colab": {
     "base_uri": "https://localhost:8080/",
     "height": 204
    },
    "id": "2kJiki1cBCZW",
    "outputId": "e5a691c4-8ed1-47b6-c6be-0ecb72fd4aa7"
   },
   "outputs": [
    {
     "data": {
      "text/html": [
       "<div>\n",
       "<style scoped>\n",
       "    .dataframe tbody tr th:only-of-type {\n",
       "        vertical-align: middle;\n",
       "    }\n",
       "\n",
       "    .dataframe tbody tr th {\n",
       "        vertical-align: top;\n",
       "    }\n",
       "\n",
       "    .dataframe thead th {\n",
       "        text-align: right;\n",
       "    }\n",
       "</style>\n",
       "<table border=\"1\" class=\"dataframe\">\n",
       "  <thead>\n",
       "    <tr style=\"text-align: right;\">\n",
       "      <th></th>\n",
       "      <th>code</th>\n",
       "      <th>num</th>\n",
       "    </tr>\n",
       "  </thead>\n",
       "  <tbody>\n",
       "    <tr>\n",
       "      <th>0</th>\n",
       "      <td>C1072</td>\n",
       "      <td>0</td>\n",
       "    </tr>\n",
       "    <tr>\n",
       "      <th>1</th>\n",
       "      <td>C1128</td>\n",
       "      <td>0</td>\n",
       "    </tr>\n",
       "    <tr>\n",
       "      <th>2</th>\n",
       "      <td>C1456</td>\n",
       "      <td>0</td>\n",
       "    </tr>\n",
       "    <tr>\n",
       "      <th>3</th>\n",
       "      <td>C1840</td>\n",
       "      <td>0</td>\n",
       "    </tr>\n",
       "    <tr>\n",
       "      <th>4</th>\n",
       "      <td>C1332</td>\n",
       "      <td>0</td>\n",
       "    </tr>\n",
       "  </tbody>\n",
       "</table>\n",
       "</div>"
      ],
      "text/plain": [
       "    code  num\n",
       "0  C1072    0\n",
       "1  C1128    0\n",
       "2  C1456    0\n",
       "3  C1840    0\n",
       "4  C1332    0"
      ]
     },
     "execution_count": 342,
     "metadata": {},
     "output_type": "execute_result"
    }
   ],
   "source": [
    "sample_submission = pd.read_csv(f'{data_path}/sample_submission.csv')\n",
    "sample_submission.head()"
   ]
  },
  {
   "cell_type": "code",
   "execution_count": 343,
   "metadata": {
    "id": "RI_1gEW0W6QQ"
   },
   "outputs": [],
   "source": [
    "# pred_esb_l['예측'] = pred_esb_l['Label'] * pred_esb_l['단지내주차면수']"
   ]
  },
  {
   "cell_type": "code",
   "execution_count": 344,
   "metadata": {
    "id": "0-8uI-qDMC6A"
   },
   "outputs": [],
   "source": [
    "# pred = pred_esb_l.loc['C1072':'C2189', '예측'].values"
   ]
  },
  {
   "cell_type": "code",
   "execution_count": 361,
   "metadata": {
    "colab": {
     "base_uri": "https://localhost:8080/"
    },
    "id": "6_pfAf2dBF3a",
    "outputId": "0b3261a9-6c98-4239-c4b1-e87f21f3400b"
   },
   "outputs": [
    {
     "data": {
      "text/plain": [
       "array([ 723.43281172, 1410.61645382,  555.96544988,  635.14388709,\n",
       "       1329.74801216, 1793.70244249, 1050.67490269,  458.77884465,\n",
       "        396.43464194,  247.60981197,  453.95643043,  367.30006781,\n",
       "        491.4922416 ,  235.62446082,  437.36680736,  118.36034936,\n",
       "        418.75659717,  304.9152496 ,   71.39644249,  636.08219958,\n",
       "        261.04206535,  371.71705566,  416.68944287,  328.8184659 ,\n",
       "        306.68955689,  173.74007097,  104.83208119,  504.58361104,\n",
       "        510.328872  ,  518.79200734,  918.09334206,  140.67947727,\n",
       "        415.11500838,  260.89458653,   60.56139106,  294.14573852,\n",
       "        297.34887687,  622.56840874,  805.20832378,  308.09590333,\n",
       "        473.57751976,  534.02627018,  472.20339688,  669.19261325,\n",
       "        816.01814796, 1344.75083722,  417.4020481 ,  668.61796256,\n",
       "        393.41190552,  352.38120046,  887.54570586,  289.74773863,\n",
       "        841.60453063,  631.82619869,  671.4288734 ,  242.73191425,\n",
       "        607.9081824 ,  236.82508227,  462.18372542,  100.90766929,\n",
       "        377.65504711,  605.49056885,  898.31333194,  511.57543853,\n",
       "        140.09650453,  258.74637538,  523.09556187, 1013.6799648 ,\n",
       "        506.08782871,  329.7031661 ,  618.76994623,  258.07688509,\n",
       "        669.92698856,  802.97805534,  705.86307614,  482.31784521,\n",
       "        724.90971019,  805.0832445 ,  888.46014841,  939.62106903,\n",
       "        919.37283151, 1151.10735727,  387.73723209,  256.8171295 ,\n",
       "        281.05939762,  198.9199909 ,  222.05153078,  382.64291165,\n",
       "        320.15522097,  941.66204432,  927.79720365,  549.29981149,\n",
       "        286.11742188,  730.68652504, 1397.99540658, 1083.89475512,\n",
       "        590.9271705 ,  992.60985955,  817.32897746,  864.07149591,\n",
       "        800.62074519,  436.15289289,  919.35176822,  815.20173862,\n",
       "       1008.57248943,  619.09842275, 1263.81847166,  662.44751597,\n",
       "        764.13286943,  344.86993469,  675.22773829, 1219.60184704,\n",
       "        697.21094209,  993.437348  ,  573.50538325,  101.4180115 ,\n",
       "        147.55019285,  531.65634441,  857.68696133, 1478.71969393,\n",
       "        548.39831761,  707.54562594,  760.46454683,  355.45677812,\n",
       "        771.46031174,  272.26959691,  430.78709521,  537.58099644,\n",
       "         68.29566938,   55.16287876,   74.49438793,  637.35404043,\n",
       "        503.2543879 ,  305.06294113,  240.89429414,  231.24468875,\n",
       "        569.10988924,  584.79400025,  402.94942733,  154.62424525,\n",
       "        538.94263016,  125.95179795,  123.00425057,  258.0256661 ,\n",
       "        302.97377793,  204.65653053,  452.80478158,   51.5171938 ,\n",
       "        428.23628212,  262.1212662 ])"
      ]
     },
     "execution_count": 361,
     "metadata": {},
     "output_type": "execute_result"
    }
   ],
   "source": [
    "y_predict"
   ]
  },
  {
   "cell_type": "code",
   "execution_count": 360,
   "metadata": {
    "colab": {
     "base_uri": "https://localhost:8080/",
     "height": 419
    },
    "id": "54QGQmYXLxNu",
    "outputId": "062e38ff-781e-43a2-8767-7aaa9b534233"
   },
   "outputs": [
    {
     "data": {
      "text/html": [
       "<div>\n",
       "<style scoped>\n",
       "    .dataframe tbody tr th:only-of-type {\n",
       "        vertical-align: middle;\n",
       "    }\n",
       "\n",
       "    .dataframe tbody tr th {\n",
       "        vertical-align: top;\n",
       "    }\n",
       "\n",
       "    .dataframe thead th {\n",
       "        text-align: right;\n",
       "    }\n",
       "</style>\n",
       "<table border=\"1\" class=\"dataframe\">\n",
       "  <thead>\n",
       "    <tr style=\"text-align: right;\">\n",
       "      <th></th>\n",
       "      <th>code</th>\n",
       "      <th>num</th>\n",
       "    </tr>\n",
       "  </thead>\n",
       "  <tbody>\n",
       "    <tr>\n",
       "      <th>0</th>\n",
       "      <td>C1072</td>\n",
       "      <td>723.432812</td>\n",
       "    </tr>\n",
       "    <tr>\n",
       "      <th>1</th>\n",
       "      <td>C1128</td>\n",
       "      <td>1410.616454</td>\n",
       "    </tr>\n",
       "    <tr>\n",
       "      <th>2</th>\n",
       "      <td>C1456</td>\n",
       "      <td>555.965450</td>\n",
       "    </tr>\n",
       "    <tr>\n",
       "      <th>3</th>\n",
       "      <td>C1840</td>\n",
       "      <td>635.143887</td>\n",
       "    </tr>\n",
       "    <tr>\n",
       "      <th>4</th>\n",
       "      <td>C1332</td>\n",
       "      <td>1329.748012</td>\n",
       "    </tr>\n",
       "    <tr>\n",
       "      <th>...</th>\n",
       "      <td>...</td>\n",
       "      <td>...</td>\n",
       "    </tr>\n",
       "    <tr>\n",
       "      <th>145</th>\n",
       "      <td>C2456</td>\n",
       "      <td>204.656531</td>\n",
       "    </tr>\n",
       "    <tr>\n",
       "      <th>146</th>\n",
       "      <td>C1266</td>\n",
       "      <td>452.804782</td>\n",
       "    </tr>\n",
       "    <tr>\n",
       "      <th>147</th>\n",
       "      <td>C2152</td>\n",
       "      <td>51.517194</td>\n",
       "    </tr>\n",
       "    <tr>\n",
       "      <th>148</th>\n",
       "      <td>C1267</td>\n",
       "      <td>428.236282</td>\n",
       "    </tr>\n",
       "    <tr>\n",
       "      <th>149</th>\n",
       "      <td>C2189</td>\n",
       "      <td>262.121266</td>\n",
       "    </tr>\n",
       "  </tbody>\n",
       "</table>\n",
       "<p>150 rows × 2 columns</p>\n",
       "</div>"
      ],
      "text/plain": [
       "      code          num\n",
       "0    C1072   723.432812\n",
       "1    C1128  1410.616454\n",
       "2    C1456   555.965450\n",
       "3    C1840   635.143887\n",
       "4    C1332  1329.748012\n",
       "..     ...          ...\n",
       "145  C2456   204.656531\n",
       "146  C1266   452.804782\n",
       "147  C2152    51.517194\n",
       "148  C1267   428.236282\n",
       "149  C2189   262.121266\n",
       "\n",
       "[150 rows x 2 columns]"
      ]
     },
     "execution_count": 360,
     "metadata": {},
     "output_type": "execute_result"
    }
   ],
   "source": [
    "sample_submission['num'] = y_predict\n",
    "sample_submission"
   ]
  },
  {
   "cell_type": "code",
   "execution_count": 251,
   "metadata": {
    "id": "sQ2X2tV8Dyxy"
   },
   "outputs": [],
   "source": [
    "# data_path2 = os.path.join(workspace_path, 'parking2')"
   ]
  },
  {
   "cell_type": "code",
   "execution_count": 347,
   "metadata": {
    "id": "W3P5DlLlML4Y"
   },
   "outputs": [],
   "source": [
    "sample_submission.to_csv('./result/lgbm.csv', index=False)"
   ]
  },
  {
   "cell_type": "code",
   "execution_count": null,
   "metadata": {},
   "outputs": [],
   "source": [
    "##### catboost #####\n",
    "# 성능 : 142.4009\n",
    "# learning rate -> 0.5\n",
    "# train predict하면 error 1.4xx\n",
    "# 학습데이터에 과적합이라고 판단\n",
    "\n",
    "# 성능 : 110.7053\n",
    "# learning rate -> 0.05\n",
    "# train predict하면 30.25709\n",
    "\n",
    "##### xgboost #####\n",
    "# learning rate -> 0.05\n",
    "# 성능 : 114.814556\n",
    "# train predict하면 1.9339\n",
    "\n",
    "##### lgbm #####\n"
   ]
  },
  {
   "cell_type": "code",
   "execution_count": null,
   "metadata": {},
   "outputs": [],
   "source": []
  }
 ],
 "metadata": {
  "colab": {
   "collapsed_sections": [],
   "name": "최종파일.ipynb",
   "provenance": []
  },
  "kernelspec": {
   "display_name": "Python 3 (ipykernel)",
   "language": "python",
   "name": "python3"
  },
  "language_info": {
   "codemirror_mode": {
    "name": "ipython",
    "version": 3
   },
   "file_extension": ".py",
   "mimetype": "text/x-python",
   "name": "python",
   "nbconvert_exporter": "python",
   "pygments_lexer": "ipython3",
   "version": "3.9.13"
  },
  "toc": {
   "base_numbering": 1,
   "nav_menu": {},
   "number_sections": true,
   "sideBar": true,
   "skip_h1_title": false,
   "title_cell": "Table of Contents",
   "title_sidebar": "Contents",
   "toc_cell": false,
   "toc_position": {},
   "toc_section_display": true,
   "toc_window_display": false
  },
  "widgets": {
   "application/vnd.jupyter.widget-state+json": {
    "01f1372e5d0940cc9d8373f47f253bca": {
     "model_module": "@jupyter-widgets/controls",
     "model_name": "ProgressStyleModel",
     "state": {
      "_model_module": "@jupyter-widgets/controls",
      "_model_module_version": "1.5.0",
      "_model_name": "ProgressStyleModel",
      "_view_count": null,
      "_view_module": "@jupyter-widgets/base",
      "_view_module_version": "1.2.0",
      "_view_name": "StyleView",
      "bar_color": null,
      "description_width": ""
     }
    },
    "111e8c48524442c59b7f4c0fb0397a49": {
     "model_module": "@jupyter-widgets/controls",
     "model_name": "IntProgressModel",
     "state": {
      "_dom_classes": [],
      "_model_module": "@jupyter-widgets/controls",
      "_model_module_version": "1.5.0",
      "_model_name": "IntProgressModel",
      "_view_count": null,
      "_view_module": "@jupyter-widgets/controls",
      "_view_module_version": "1.5.0",
      "_view_name": "ProgressView",
      "bar_style": "",
      "description": "Processing: ",
      "description_tooltip": null,
      "layout": "IPY_MODEL_aa3adccfc3b449ccb5de0310b42aa176",
      "max": 5,
      "min": 0,
      "orientation": "horizontal",
      "style": "IPY_MODEL_8bdd4b1bed204a90b50152ee320b9c95",
      "value": 5
     }
    },
    "2003b947a9b94a4f9ef125aab5f3c4ea": {
     "model_module": "@jupyter-widgets/controls",
     "model_name": "IntProgressModel",
     "state": {
      "_dom_classes": [],
      "_model_module": "@jupyter-widgets/controls",
      "_model_module_version": "1.5.0",
      "_model_name": "IntProgressModel",
      "_view_count": null,
      "_view_module": "@jupyter-widgets/controls",
      "_view_module_version": "1.5.0",
      "_view_name": "ProgressView",
      "bar_style": "",
      "description": "Processing: ",
      "description_tooltip": null,
      "layout": "IPY_MODEL_fc706b3693d442e18bc110e750efc560",
      "max": 94,
      "min": 0,
      "orientation": "horizontal",
      "style": "IPY_MODEL_bae8cb7ec5de4add9f9de1e700897a36",
      "value": 94
     }
    },
    "3609d78dc5ed46fd9f5c37af0fb1daa0": {
     "model_module": "@jupyter-widgets/controls",
     "model_name": "IntProgressModel",
     "state": {
      "_dom_classes": [],
      "_model_module": "@jupyter-widgets/controls",
      "_model_module_version": "1.5.0",
      "_model_name": "IntProgressModel",
      "_view_count": null,
      "_view_module": "@jupyter-widgets/controls",
      "_view_module_version": "1.5.0",
      "_view_name": "ProgressView",
      "bar_style": "",
      "description": "Processing: ",
      "description_tooltip": null,
      "layout": "IPY_MODEL_72f203a414344d0a8f59315d9d15e275",
      "max": 5,
      "min": 0,
      "orientation": "horizontal",
      "style": "IPY_MODEL_01f1372e5d0940cc9d8373f47f253bca",
      "value": 5
     }
    },
    "3e538501fa46419a98ee1fc066db68d6": {
     "model_module": "@jupyter-widgets/controls",
     "model_name": "IntProgressModel",
     "state": {
      "_dom_classes": [],
      "_model_module": "@jupyter-widgets/controls",
      "_model_module_version": "1.5.0",
      "_model_name": "IntProgressModel",
      "_view_count": null,
      "_view_module": "@jupyter-widgets/controls",
      "_view_module_version": "1.5.0",
      "_view_name": "ProgressView",
      "bar_style": "",
      "description": "Processing: ",
      "description_tooltip": null,
      "layout": "IPY_MODEL_d6d1bd6ea4384542b3d22a769200bb11",
      "max": 6,
      "min": 0,
      "orientation": "horizontal",
      "style": "IPY_MODEL_8886061e2a7c49b89af712007e555ceb",
      "value": 6
     }
    },
    "4d6df8fd2c884a4984dfc598b9c467f9": {
     "model_module": "@jupyter-widgets/controls",
     "model_name": "IntProgressModel",
     "state": {
      "_dom_classes": [],
      "_model_module": "@jupyter-widgets/controls",
      "_model_module_version": "1.5.0",
      "_model_name": "IntProgressModel",
      "_view_count": null,
      "_view_module": "@jupyter-widgets/controls",
      "_view_module_version": "1.5.0",
      "_view_name": "ProgressView",
      "bar_style": "",
      "description": "Processing: ",
      "description_tooltip": null,
      "layout": "IPY_MODEL_9e01e44b477d4ef695f73c965b91b070",
      "max": 5,
      "min": 0,
      "orientation": "horizontal",
      "style": "IPY_MODEL_c205165997714cceb3266acbdefb38b9",
      "value": 5
     }
    },
    "4dff0cf7f7f1444d91082353b571df48": {
     "model_module": "@jupyter-widgets/controls",
     "model_name": "ProgressStyleModel",
     "state": {
      "_model_module": "@jupyter-widgets/controls",
      "_model_module_version": "1.5.0",
      "_model_name": "ProgressStyleModel",
      "_view_count": null,
      "_view_module": "@jupyter-widgets/base",
      "_view_module_version": "1.2.0",
      "_view_name": "StyleView",
      "bar_color": null,
      "description_width": ""
     }
    },
    "72f203a414344d0a8f59315d9d15e275": {
     "model_module": "@jupyter-widgets/base",
     "model_name": "LayoutModel",
     "state": {
      "_model_module": "@jupyter-widgets/base",
      "_model_module_version": "1.2.0",
      "_model_name": "LayoutModel",
      "_view_count": null,
      "_view_module": "@jupyter-widgets/base",
      "_view_module_version": "1.2.0",
      "_view_name": "LayoutView",
      "align_content": null,
      "align_items": null,
      "align_self": null,
      "border": null,
      "bottom": null,
      "display": null,
      "flex": null,
      "flex_flow": null,
      "grid_area": null,
      "grid_auto_columns": null,
      "grid_auto_flow": null,
      "grid_auto_rows": null,
      "grid_column": null,
      "grid_gap": null,
      "grid_row": null,
      "grid_template_areas": null,
      "grid_template_columns": null,
      "grid_template_rows": null,
      "height": null,
      "justify_content": null,
      "justify_items": null,
      "left": null,
      "margin": null,
      "max_height": null,
      "max_width": null,
      "min_height": null,
      "min_width": null,
      "object_fit": null,
      "object_position": null,
      "order": null,
      "overflow": null,
      "overflow_x": null,
      "overflow_y": null,
      "padding": null,
      "right": null,
      "top": null,
      "visibility": null,
      "width": null
     }
    },
    "8886061e2a7c49b89af712007e555ceb": {
     "model_module": "@jupyter-widgets/controls",
     "model_name": "ProgressStyleModel",
     "state": {
      "_model_module": "@jupyter-widgets/controls",
      "_model_module_version": "1.5.0",
      "_model_name": "ProgressStyleModel",
      "_view_count": null,
      "_view_module": "@jupyter-widgets/base",
      "_view_module_version": "1.2.0",
      "_view_name": "StyleView",
      "bar_color": null,
      "description_width": ""
     }
    },
    "8bdd4b1bed204a90b50152ee320b9c95": {
     "model_module": "@jupyter-widgets/controls",
     "model_name": "ProgressStyleModel",
     "state": {
      "_model_module": "@jupyter-widgets/controls",
      "_model_module_version": "1.5.0",
      "_model_name": "ProgressStyleModel",
      "_view_count": null,
      "_view_module": "@jupyter-widgets/base",
      "_view_module_version": "1.2.0",
      "_view_name": "StyleView",
      "bar_color": null,
      "description_width": ""
     }
    },
    "9e01e44b477d4ef695f73c965b91b070": {
     "model_module": "@jupyter-widgets/base",
     "model_name": "LayoutModel",
     "state": {
      "_model_module": "@jupyter-widgets/base",
      "_model_module_version": "1.2.0",
      "_model_name": "LayoutModel",
      "_view_count": null,
      "_view_module": "@jupyter-widgets/base",
      "_view_module_version": "1.2.0",
      "_view_name": "LayoutView",
      "align_content": null,
      "align_items": null,
      "align_self": null,
      "border": null,
      "bottom": null,
      "display": null,
      "flex": null,
      "flex_flow": null,
      "grid_area": null,
      "grid_auto_columns": null,
      "grid_auto_flow": null,
      "grid_auto_rows": null,
      "grid_column": null,
      "grid_gap": null,
      "grid_row": null,
      "grid_template_areas": null,
      "grid_template_columns": null,
      "grid_template_rows": null,
      "height": null,
      "justify_content": null,
      "justify_items": null,
      "left": null,
      "margin": null,
      "max_height": null,
      "max_width": null,
      "min_height": null,
      "min_width": null,
      "object_fit": null,
      "object_position": null,
      "order": null,
      "overflow": null,
      "overflow_x": null,
      "overflow_y": null,
      "padding": null,
      "right": null,
      "top": null,
      "visibility": null,
      "width": null
     }
    },
    "aa3adccfc3b449ccb5de0310b42aa176": {
     "model_module": "@jupyter-widgets/base",
     "model_name": "LayoutModel",
     "state": {
      "_model_module": "@jupyter-widgets/base",
      "_model_module_version": "1.2.0",
      "_model_name": "LayoutModel",
      "_view_count": null,
      "_view_module": "@jupyter-widgets/base",
      "_view_module_version": "1.2.0",
      "_view_name": "LayoutView",
      "align_content": null,
      "align_items": null,
      "align_self": null,
      "border": null,
      "bottom": null,
      "display": null,
      "flex": null,
      "flex_flow": null,
      "grid_area": null,
      "grid_auto_columns": null,
      "grid_auto_flow": null,
      "grid_auto_rows": null,
      "grid_column": null,
      "grid_gap": null,
      "grid_row": null,
      "grid_template_areas": null,
      "grid_template_columns": null,
      "grid_template_rows": null,
      "height": null,
      "justify_content": null,
      "justify_items": null,
      "left": null,
      "margin": null,
      "max_height": null,
      "max_width": null,
      "min_height": null,
      "min_width": null,
      "object_fit": null,
      "object_position": null,
      "order": null,
      "overflow": null,
      "overflow_x": null,
      "overflow_y": null,
      "padding": null,
      "right": null,
      "top": null,
      "visibility": null,
      "width": null
     }
    },
    "bae8cb7ec5de4add9f9de1e700897a36": {
     "model_module": "@jupyter-widgets/controls",
     "model_name": "ProgressStyleModel",
     "state": {
      "_model_module": "@jupyter-widgets/controls",
      "_model_module_version": "1.5.0",
      "_model_name": "ProgressStyleModel",
      "_view_count": null,
      "_view_module": "@jupyter-widgets/base",
      "_view_module_version": "1.2.0",
      "_view_name": "StyleView",
      "bar_color": null,
      "description_width": ""
     }
    },
    "be25d42600624c0e8fdb4ef833a4564d": {
     "model_module": "@jupyter-widgets/base",
     "model_name": "LayoutModel",
     "state": {
      "_model_module": "@jupyter-widgets/base",
      "_model_module_version": "1.2.0",
      "_model_name": "LayoutModel",
      "_view_count": null,
      "_view_module": "@jupyter-widgets/base",
      "_view_module_version": "1.2.0",
      "_view_name": "LayoutView",
      "align_content": null,
      "align_items": null,
      "align_self": null,
      "border": null,
      "bottom": null,
      "display": null,
      "flex": null,
      "flex_flow": null,
      "grid_area": null,
      "grid_auto_columns": null,
      "grid_auto_flow": null,
      "grid_auto_rows": null,
      "grid_column": null,
      "grid_gap": null,
      "grid_row": null,
      "grid_template_areas": null,
      "grid_template_columns": null,
      "grid_template_rows": null,
      "height": null,
      "justify_content": null,
      "justify_items": null,
      "left": null,
      "margin": null,
      "max_height": null,
      "max_width": null,
      "min_height": null,
      "min_width": null,
      "object_fit": null,
      "object_position": null,
      "order": null,
      "overflow": null,
      "overflow_x": null,
      "overflow_y": null,
      "padding": null,
      "right": null,
      "top": null,
      "visibility": null,
      "width": null
     }
    },
    "c205165997714cceb3266acbdefb38b9": {
     "model_module": "@jupyter-widgets/controls",
     "model_name": "ProgressStyleModel",
     "state": {
      "_model_module": "@jupyter-widgets/controls",
      "_model_module_version": "1.5.0",
      "_model_name": "ProgressStyleModel",
      "_view_count": null,
      "_view_module": "@jupyter-widgets/base",
      "_view_module_version": "1.2.0",
      "_view_name": "StyleView",
      "bar_color": null,
      "description_width": ""
     }
    },
    "d6d1bd6ea4384542b3d22a769200bb11": {
     "model_module": "@jupyter-widgets/base",
     "model_name": "LayoutModel",
     "state": {
      "_model_module": "@jupyter-widgets/base",
      "_model_module_version": "1.2.0",
      "_model_name": "LayoutModel",
      "_view_count": null,
      "_view_module": "@jupyter-widgets/base",
      "_view_module_version": "1.2.0",
      "_view_name": "LayoutView",
      "align_content": null,
      "align_items": null,
      "align_self": null,
      "border": null,
      "bottom": null,
      "display": null,
      "flex": null,
      "flex_flow": null,
      "grid_area": null,
      "grid_auto_columns": null,
      "grid_auto_flow": null,
      "grid_auto_rows": null,
      "grid_column": null,
      "grid_gap": null,
      "grid_row": null,
      "grid_template_areas": null,
      "grid_template_columns": null,
      "grid_template_rows": null,
      "height": null,
      "justify_content": null,
      "justify_items": null,
      "left": null,
      "margin": null,
      "max_height": null,
      "max_width": null,
      "min_height": null,
      "min_width": null,
      "object_fit": null,
      "object_position": null,
      "order": null,
      "overflow": null,
      "overflow_x": null,
      "overflow_y": null,
      "padding": null,
      "right": null,
      "top": null,
      "visibility": null,
      "width": null
     }
    },
    "ee2b18c3254c4097aac60f6eb7b36ce5": {
     "model_module": "@jupyter-widgets/controls",
     "model_name": "ProgressStyleModel",
     "state": {
      "_model_module": "@jupyter-widgets/controls",
      "_model_module_version": "1.5.0",
      "_model_name": "ProgressStyleModel",
      "_view_count": null,
      "_view_module": "@jupyter-widgets/base",
      "_view_module_version": "1.2.0",
      "_view_name": "StyleView",
      "bar_color": null,
      "description_width": ""
     }
    },
    "f7380c673ad34b2ab4340bbae0dc2a3f": {
     "model_module": "@jupyter-widgets/controls",
     "model_name": "IntProgressModel",
     "state": {
      "_dom_classes": [],
      "_model_module": "@jupyter-widgets/controls",
      "_model_module_version": "1.5.0",
      "_model_name": "IntProgressModel",
      "_view_count": null,
      "_view_module": "@jupyter-widgets/controls",
      "_view_module_version": "1.5.0",
      "_view_name": "ProgressView",
      "bar_style": "",
      "description": "Processing: ",
      "description_tooltip": null,
      "layout": "IPY_MODEL_fabb7c7215cf4198af60f376cabf77c9",
      "max": 3,
      "min": 0,
      "orientation": "horizontal",
      "style": "IPY_MODEL_ee2b18c3254c4097aac60f6eb7b36ce5",
      "value": 3
     }
    },
    "fabb7c7215cf4198af60f376cabf77c9": {
     "model_module": "@jupyter-widgets/base",
     "model_name": "LayoutModel",
     "state": {
      "_model_module": "@jupyter-widgets/base",
      "_model_module_version": "1.2.0",
      "_model_name": "LayoutModel",
      "_view_count": null,
      "_view_module": "@jupyter-widgets/base",
      "_view_module_version": "1.2.0",
      "_view_name": "LayoutView",
      "align_content": null,
      "align_items": null,
      "align_self": null,
      "border": null,
      "bottom": null,
      "display": null,
      "flex": null,
      "flex_flow": null,
      "grid_area": null,
      "grid_auto_columns": null,
      "grid_auto_flow": null,
      "grid_auto_rows": null,
      "grid_column": null,
      "grid_gap": null,
      "grid_row": null,
      "grid_template_areas": null,
      "grid_template_columns": null,
      "grid_template_rows": null,
      "height": null,
      "justify_content": null,
      "justify_items": null,
      "left": null,
      "margin": null,
      "max_height": null,
      "max_width": null,
      "min_height": null,
      "min_width": null,
      "object_fit": null,
      "object_position": null,
      "order": null,
      "overflow": null,
      "overflow_x": null,
      "overflow_y": null,
      "padding": null,
      "right": null,
      "top": null,
      "visibility": null,
      "width": null
     }
    },
    "fb825db1a4d0492e9f0c625fb7e17d1e": {
     "model_module": "@jupyter-widgets/controls",
     "model_name": "IntProgressModel",
     "state": {
      "_dom_classes": [],
      "_model_module": "@jupyter-widgets/controls",
      "_model_module_version": "1.5.0",
      "_model_name": "IntProgressModel",
      "_view_count": null,
      "_view_module": "@jupyter-widgets/controls",
      "_view_module_version": "1.5.0",
      "_view_name": "ProgressView",
      "bar_style": "",
      "description": "Processing: ",
      "description_tooltip": null,
      "layout": "IPY_MODEL_be25d42600624c0e8fdb4ef833a4564d",
      "max": 4,
      "min": 0,
      "orientation": "horizontal",
      "style": "IPY_MODEL_4dff0cf7f7f1444d91082353b571df48",
      "value": 4
     }
    },
    "fc706b3693d442e18bc110e750efc560": {
     "model_module": "@jupyter-widgets/base",
     "model_name": "LayoutModel",
     "state": {
      "_model_module": "@jupyter-widgets/base",
      "_model_module_version": "1.2.0",
      "_model_name": "LayoutModel",
      "_view_count": null,
      "_view_module": "@jupyter-widgets/base",
      "_view_module_version": "1.2.0",
      "_view_name": "LayoutView",
      "align_content": null,
      "align_items": null,
      "align_self": null,
      "border": null,
      "bottom": null,
      "display": null,
      "flex": null,
      "flex_flow": null,
      "grid_area": null,
      "grid_auto_columns": null,
      "grid_auto_flow": null,
      "grid_auto_rows": null,
      "grid_column": null,
      "grid_gap": null,
      "grid_row": null,
      "grid_template_areas": null,
      "grid_template_columns": null,
      "grid_template_rows": null,
      "height": null,
      "justify_content": null,
      "justify_items": null,
      "left": null,
      "margin": null,
      "max_height": null,
      "max_width": null,
      "min_height": null,
      "min_width": null,
      "object_fit": null,
      "object_position": null,
      "order": null,
      "overflow": null,
      "overflow_x": null,
      "overflow_y": null,
      "padding": null,
      "right": null,
      "top": null,
      "visibility": null,
      "width": null
     }
    }
   }
  }
 },
 "nbformat": 4,
 "nbformat_minor": 1
}

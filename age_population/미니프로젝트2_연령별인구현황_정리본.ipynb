{
 "cells": [
  {
   "cell_type": "code",
   "execution_count": 2,
   "id": "354ce61e",
   "metadata": {},
   "outputs": [],
   "source": [
    "import pandas as pd\n",
    "import numpy as np\n",
    "import matplotlib.pyplot as plt\n",
    "import seaborn as sns"
   ]
  },
  {
   "cell_type": "code",
   "execution_count": 3,
   "id": "611b7784",
   "metadata": {},
   "outputs": [],
   "source": [
    "import koreanize_matplotlib"
   ]
  },
  {
   "cell_type": "code",
   "execution_count": 5,
   "id": "41dbf810",
   "metadata": {},
   "outputs": [
    {
     "data": {
      "text/plain": [
       "['200801_201106.csv',\n",
       " '201107_201412.csv',\n",
       " '201501_201806.csv',\n",
       " '201807_202112.csv']"
      ]
     },
     "execution_count": 5,
     "metadata": {},
     "output_type": "execute_result"
    }
   ],
   "source": [
    "from glob import glob\n",
    "file_names = sorted(glob('*.csv'))\n",
    "file_names"
   ]
  },
  {
   "cell_type": "code",
   "execution_count": 6,
   "id": "f8e8674b",
   "metadata": {},
   "outputs": [],
   "source": [
    "df_1 = pd.read_csv(file_names[0])\n",
    "df_2 = pd.read_csv(file_names[1])\n",
    "df_3 = pd.read_csv(file_names[2])\n",
    "df_4 = pd.read_csv(file_names[3])"
   ]
  },
  {
   "cell_type": "code",
   "execution_count": 8,
   "id": "ecfef67e",
   "metadata": {},
   "outputs": [
    {
     "data": {
      "text/html": [
       "<div>\n",
       "<style scoped>\n",
       "    .dataframe tbody tr th:only-of-type {\n",
       "        vertical-align: middle;\n",
       "    }\n",
       "\n",
       "    .dataframe tbody tr th {\n",
       "        vertical-align: top;\n",
       "    }\n",
       "\n",
       "    .dataframe thead th {\n",
       "        text-align: right;\n",
       "    }\n",
       "</style>\n",
       "<table border=\"1\" class=\"dataframe\">\n",
       "  <thead>\n",
       "    <tr style=\"text-align: right;\">\n",
       "      <th></th>\n",
       "      <th>행정구역</th>\n",
       "      <th>연도</th>\n",
       "      <th>월</th>\n",
       "      <th>연령대</th>\n",
       "      <th>인구수</th>\n",
       "    </tr>\n",
       "  </thead>\n",
       "  <tbody>\n",
       "    <tr>\n",
       "      <th>0</th>\n",
       "      <td>서울특별시</td>\n",
       "      <td>2008</td>\n",
       "      <td>1</td>\n",
       "      <td>0~9세</td>\n",
       "      <td>959906</td>\n",
       "    </tr>\n",
       "    <tr>\n",
       "      <th>1</th>\n",
       "      <td>부산광역시</td>\n",
       "      <td>2008</td>\n",
       "      <td>1</td>\n",
       "      <td>0~9세</td>\n",
       "      <td>309247</td>\n",
       "    </tr>\n",
       "    <tr>\n",
       "      <th>2</th>\n",
       "      <td>대구광역시</td>\n",
       "      <td>2008</td>\n",
       "      <td>1</td>\n",
       "      <td>0~9세</td>\n",
       "      <td>253570</td>\n",
       "    </tr>\n",
       "    <tr>\n",
       "      <th>3</th>\n",
       "      <td>인천광역시</td>\n",
       "      <td>2008</td>\n",
       "      <td>1</td>\n",
       "      <td>0~9세</td>\n",
       "      <td>289401</td>\n",
       "    </tr>\n",
       "    <tr>\n",
       "      <th>4</th>\n",
       "      <td>광주광역시</td>\n",
       "      <td>2008</td>\n",
       "      <td>1</td>\n",
       "      <td>0~9세</td>\n",
       "      <td>171638</td>\n",
       "    </tr>\n",
       "  </tbody>\n",
       "</table>\n",
       "</div>"
      ],
      "text/plain": [
       "    행정구역    연도  월   연령대     인구수\n",
       "0  서울특별시  2008  1  0~9세  959906\n",
       "1  부산광역시  2008  1  0~9세  309247\n",
       "2  대구광역시  2008  1  0~9세  253570\n",
       "3  인천광역시  2008  1  0~9세  289401\n",
       "4  광주광역시  2008  1  0~9세  171638"
      ]
     },
     "execution_count": 8,
     "metadata": {},
     "output_type": "execute_result"
    }
   ],
   "source": [
    "df_1.head()"
   ]
  },
  {
   "cell_type": "code",
   "execution_count": 11,
   "id": "4b574e88",
   "metadata": {},
   "outputs": [],
   "source": [
    "df_all = pd.concat([df_1, df_2, df_3, df_4])\n",
    "df_all.to_csv('연령별_인구현황(2008~2021).csv', index = False)"
   ]
  },
  {
   "cell_type": "code",
   "execution_count": 12,
   "id": "609f1a79",
   "metadata": {},
   "outputs": [
    {
     "data": {
      "text/html": [
       "<div>\n",
       "<style scoped>\n",
       "    .dataframe tbody tr th:only-of-type {\n",
       "        vertical-align: middle;\n",
       "    }\n",
       "\n",
       "    .dataframe tbody tr th {\n",
       "        vertical-align: top;\n",
       "    }\n",
       "\n",
       "    .dataframe thead th {\n",
       "        text-align: right;\n",
       "    }\n",
       "</style>\n",
       "<table border=\"1\" class=\"dataframe\">\n",
       "  <thead>\n",
       "    <tr style=\"text-align: right;\">\n",
       "      <th></th>\n",
       "      <th>행정구역</th>\n",
       "      <th>연도</th>\n",
       "      <th>월</th>\n",
       "      <th>연령대</th>\n",
       "      <th>인구수</th>\n",
       "    </tr>\n",
       "  </thead>\n",
       "  <tbody>\n",
       "    <tr>\n",
       "      <th>0</th>\n",
       "      <td>서울특별시</td>\n",
       "      <td>2008</td>\n",
       "      <td>1</td>\n",
       "      <td>0~9세</td>\n",
       "      <td>959906</td>\n",
       "    </tr>\n",
       "    <tr>\n",
       "      <th>1</th>\n",
       "      <td>부산광역시</td>\n",
       "      <td>2008</td>\n",
       "      <td>1</td>\n",
       "      <td>0~9세</td>\n",
       "      <td>309247</td>\n",
       "    </tr>\n",
       "    <tr>\n",
       "      <th>2</th>\n",
       "      <td>대구광역시</td>\n",
       "      <td>2008</td>\n",
       "      <td>1</td>\n",
       "      <td>0~9세</td>\n",
       "      <td>253570</td>\n",
       "    </tr>\n",
       "    <tr>\n",
       "      <th>3</th>\n",
       "      <td>인천광역시</td>\n",
       "      <td>2008</td>\n",
       "      <td>1</td>\n",
       "      <td>0~9세</td>\n",
       "      <td>289401</td>\n",
       "    </tr>\n",
       "    <tr>\n",
       "      <th>4</th>\n",
       "      <td>광주광역시</td>\n",
       "      <td>2008</td>\n",
       "      <td>1</td>\n",
       "      <td>0~9세</td>\n",
       "      <td>171638</td>\n",
       "    </tr>\n",
       "  </tbody>\n",
       "</table>\n",
       "</div>"
      ],
      "text/plain": [
       "    행정구역    연도  월   연령대     인구수\n",
       "0  서울특별시  2008  1  0~9세  959906\n",
       "1  부산광역시  2008  1  0~9세  309247\n",
       "2  대구광역시  2008  1  0~9세  253570\n",
       "3  인천광역시  2008  1  0~9세  289401\n",
       "4  광주광역시  2008  1  0~9세  171638"
      ]
     },
     "execution_count": 12,
     "metadata": {},
     "output_type": "execute_result"
    }
   ],
   "source": [
    "df = pd.read_csv('연령별_인구현황(2008~2021).csv')\n",
    "df.head()"
   ]
  },
  {
   "cell_type": "code",
   "execution_count": 14,
   "id": "899b87d6",
   "metadata": {},
   "outputs": [
    {
     "data": {
      "text/plain": [
       "서울특별시      1848\n",
       "충청북도       1848\n",
       "제주특별자치도    1848\n",
       "경상남도       1848\n",
       "경상북도       1848\n",
       "전라남도       1848\n",
       "전라북도       1848\n",
       "충청남도       1848\n",
       "강원도        1848\n",
       "부산광역시      1848\n",
       "경기도        1848\n",
       "울산광역시      1848\n",
       "대전광역시      1848\n",
       "광주광역시      1848\n",
       "인천광역시      1848\n",
       "대구광역시      1848\n",
       "세종특별자치시    1254\n",
       "Name: 행정구역, dtype: int64"
      ]
     },
     "execution_count": 14,
     "metadata": {},
     "output_type": "execute_result"
    }
   ],
   "source": [
    "df['행정구역'].value_counts()"
   ]
  },
  {
   "cell_type": "markdown",
   "id": "c607b959",
   "metadata": {},
   "source": [
    "세종특별자치시는 "
   ]
  }
 ],
 "metadata": {
  "kernelspec": {
   "display_name": "Python 3 (ipykernel)",
   "language": "python",
   "name": "python3"
  },
  "language_info": {
   "codemirror_mode": {
    "name": "ipython",
    "version": 3
   },
   "file_extension": ".py",
   "mimetype": "text/x-python",
   "name": "python",
   "nbconvert_exporter": "python",
   "pygments_lexer": "ipython3",
   "version": "3.9.12"
  },
  "toc": {
   "base_numbering": 1,
   "nav_menu": {},
   "number_sections": true,
   "sideBar": true,
   "skip_h1_title": false,
   "title_cell": "Table of Contents",
   "title_sidebar": "Contents",
   "toc_cell": false,
   "toc_position": {},
   "toc_section_display": true,
   "toc_window_display": false
  }
 },
 "nbformat": 4,
 "nbformat_minor": 5
}
